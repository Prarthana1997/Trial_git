{
 "cells": [
  {
   "cell_type": "code",
   "execution_count": 2,
   "id": "96f6ffa2",
   "metadata": {},
   "outputs": [],
   "source": [
    "data= {\n",
    "    'name':'prarthana',\n",
    "    'pin' : 380058,\n",
    "    'surname':'patel'\n",
    "}"
   ]
  },
  {
   "cell_type": "code",
   "execution_count": 10,
   "id": "6c2f5096",
   "metadata": {},
   "outputs": [
    {
     "name": "stdout",
     "output_type": "stream",
     "text": [
      "enter your pin: sgsvd\n",
      "invalid input\n"
     ]
    }
   ],
   "source": [
    "pin = input('enter your pin: ')\n",
    " \n",
    "if pin.isnumeric():\n",
    "    pin= int(pin)\n",
    "    if pin == data['pin']:\n",
    "        print(f'Hello {data[\"name\"]} your surname is {data[\"surname\"]}')\n",
    "    else:\n",
    "        print ('incorrect pin')\n",
    "else:\n",
    "    print('invalid input')"
   ]
  },
  {
   "cell_type": "code",
   "execution_count": 15,
   "id": "7f0dc464",
   "metadata": {},
   "outputs": [
    {
     "name": "stdout",
     "output_type": "stream",
     "text": [
      "enter your pin: 3 8 0 0           58\n",
      "Hello prarthana your surname is patel\n"
     ]
    }
   ],
   "source": [
    "#nested if\n",
    "\n",
    "pin= input('enter your pin: ')\n",
    "\n",
    "pin=pin.split()\n",
    "pin=''.join(pin)\n",
    "\n",
    "if pin.isnumeric():\n",
    "    pin= int(pin)\n",
    "    if pin == data['pin']:\n",
    "        print(f'Hello {data[\"name\"]} your surname is {data[\"surname\"]}')\n",
    "    else:\n",
    "        print ('incorrect pin')\n",
    "else:\n",
    "    print('invalid input')"
   ]
  },
  {
   "cell_type": "code",
   "execution_count": 18,
   "id": "eba8f291",
   "metadata": {},
   "outputs": [
    {
     "name": "stdout",
     "output_type": "stream",
     "text": [
      "enter number: 1\n",
      "one\n"
     ]
    }
   ],
   "source": [
    "#multilevel \n",
    "\n",
    "number = input ('enter number: ')\n",
    "\n",
    "if number == '1':\n",
    "    print('one')"
   ]
  },
  {
   "cell_type": "code",
   "execution_count": 22,
   "id": "a62ab2bf",
   "metadata": {},
   "outputs": [
    {
     "name": "stdout",
     "output_type": "stream",
     "text": [
      "enter number: 5\n",
      "invalid input\n"
     ]
    }
   ],
   "source": [
    "number = input ('enter number: ')\n",
    "\n",
    "if number == '1':\n",
    "    print('one')\n",
    "elif number == '2':\n",
    "    print('two')\n",
    "elif number =='3':\n",
    "    print('three')\n",
    "else:\n",
    "    print('invalid input')"
   ]
  },
  {
   "cell_type": "code",
   "execution_count": 38,
   "id": "b36f24fa",
   "metadata": {},
   "outputs": [
    {
     "name": "stdout",
     "output_type": "stream",
     "text": [
      "enter your grade: B\n",
      "you are not eligible\n"
     ]
    }
   ],
   "source": [
    "#logical\n",
    "\n",
    "grade= input('enter your grade: ')\n",
    "\n",
    "grade=grade.lower()\n",
    "\n",
    "if grade=='a' or grade=='a+':\n",
    "       print('you are eligible')\n",
    "else:\n",
    "    print('you are not eligible')\n",
    "    "
   ]
  },
  {
   "cell_type": "code",
   "execution_count": null,
   "id": "bbb66f4e",
   "metadata": {},
   "outputs": [],
   "source": [
    "data=\n",
    "{\n",
    "    'name':'prarthana'\n",
    "    'standard': 12,\n",
    "    'marks': [80.5, 70 , 90],\n",
    "    'subject': ['english','maths','science']\n",
    "    'total obt marks': float(),\n",
    "    'grade percentage': float(),   \n",
    "}\n",
    "\n",
    "\n"
   ]
  }
 ],
 "metadata": {
  "kernelspec": {
   "display_name": "Python 3 (ipykernel)",
   "language": "python",
   "name": "python3"
  },
  "language_info": {
   "codemirror_mode": {
    "name": "ipython",
    "version": 3
   },
   "file_extension": ".py",
   "mimetype": "text/x-python",
   "name": "python",
   "nbconvert_exporter": "python",
   "pygments_lexer": "ipython3",
   "version": "3.10.9"
  }
 },
 "nbformat": 4,
 "nbformat_minor": 5
}
