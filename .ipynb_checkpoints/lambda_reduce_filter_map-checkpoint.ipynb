{
 "cells": [
  {
   "cell_type": "markdown",
   "id": "033dae2b",
   "metadata": {},
   "source": [
    "# lambda\n",
    "A lambda function is a small anonymous function. A lambda function can take any number of arguments, but can only have one expression.\n",
    "\n",
    "\n"
   ]
  },
  {
   "cell_type": "code",
   "execution_count": 6,
   "id": "914381fe",
   "metadata": {},
   "outputs": [],
   "source": [
    "hello= lambda : print('Hello function called')"
   ]
  },
  {
   "cell_type": "code",
   "execution_count": 7,
   "id": "9adb609d",
   "metadata": {},
   "outputs": [
    {
     "data": {
      "text/plain": [
       "function"
      ]
     },
     "execution_count": 7,
     "metadata": {},
     "output_type": "execute_result"
    }
   ],
   "source": [
    "type(hello)"
   ]
  },
  {
   "cell_type": "code",
   "execution_count": 8,
   "id": "e2716ccf",
   "metadata": {},
   "outputs": [
    {
     "data": {
      "text/plain": [
       "'<lambda>'"
      ]
     },
     "execution_count": 8,
     "metadata": {},
     "output_type": "execute_result"
    }
   ],
   "source": [
    "hello.__name__"
   ]
  },
  {
   "cell_type": "code",
   "execution_count": 9,
   "id": "92e33349",
   "metadata": {},
   "outputs": [
    {
     "name": "stdout",
     "output_type": "stream",
     "text": [
      "Hello function called\n"
     ]
    }
   ],
   "source": [
    "hello()"
   ]
  },
  {
   "cell_type": "code",
   "execution_count": 10,
   "id": "481db233",
   "metadata": {},
   "outputs": [],
   "source": [
    "hello=lambda:'hello function'"
   ]
  },
  {
   "cell_type": "code",
   "execution_count": 11,
   "id": "a26d1acc",
   "metadata": {},
   "outputs": [
    {
     "data": {
      "text/plain": [
       "'hello function'"
      ]
     },
     "execution_count": 11,
     "metadata": {},
     "output_type": "execute_result"
    }
   ],
   "source": [
    "hello()"
   ]
  },
  {
   "cell_type": "code",
   "execution_count": 12,
   "id": "69ca1cc5",
   "metadata": {},
   "outputs": [],
   "source": [
    "name = lambda x: f\"Hello {x}\""
   ]
  },
  {
   "cell_type": "code",
   "execution_count": 14,
   "id": "63803306",
   "metadata": {},
   "outputs": [
    {
     "data": {
      "text/plain": [
       "'Hello prarthana'"
      ]
     },
     "execution_count": 14,
     "metadata": {},
     "output_type": "execute_result"
    }
   ],
   "source": [
    "name('prarthana')"
   ]
  },
  {
   "cell_type": "code",
   "execution_count": 15,
   "id": "6a71ebf9",
   "metadata": {},
   "outputs": [
    {
     "ename": "TypeError",
     "evalue": "<lambda>() takes 1 positional argument but 2 were given",
     "output_type": "error",
     "traceback": [
      "\u001b[1;31m---------------------------------------------------------------------------\u001b[0m",
      "\u001b[1;31mTypeError\u001b[0m                                 Traceback (most recent call last)",
      "Cell \u001b[1;32mIn[15], line 1\u001b[0m\n\u001b[1;32m----> 1\u001b[0m \u001b[43mname\u001b[49m\u001b[43m(\u001b[49m\u001b[38;5;124;43m'\u001b[39;49m\u001b[38;5;124;43mprarthana\u001b[39;49m\u001b[38;5;124;43m'\u001b[39;49m\u001b[43m,\u001b[49m\u001b[38;5;124;43m'\u001b[39;49m\u001b[38;5;124;43mpatel\u001b[39;49m\u001b[38;5;124;43m'\u001b[39;49m\u001b[43m)\u001b[49m\n",
      "\u001b[1;31mTypeError\u001b[0m: <lambda>() takes 1 positional argument but 2 were given"
     ]
    }
   ],
   "source": [
    "name('prarthana','patel')"
   ]
  },
  {
   "cell_type": "code",
   "execution_count": 16,
   "id": "a66c42ac",
   "metadata": {},
   "outputs": [],
   "source": [
    "add= lambda x,y : x+y"
   ]
  },
  {
   "cell_type": "code",
   "execution_count": 18,
   "id": "79531b7c",
   "metadata": {},
   "outputs": [
    {
     "data": {
      "text/plain": [
       "11.0"
      ]
     },
     "execution_count": 18,
     "metadata": {},
     "output_type": "execute_result"
    }
   ],
   "source": [
    "add(5.5,5.5)"
   ]
  },
  {
   "cell_type": "code",
   "execution_count": 19,
   "id": "9975526e",
   "metadata": {},
   "outputs": [
    {
     "data": {
      "text/plain": [
       "15.5"
      ]
     },
     "execution_count": 19,
     "metadata": {},
     "output_type": "execute_result"
    }
   ],
   "source": [
    "add(5.5,10)"
   ]
  },
  {
   "cell_type": "code",
   "execution_count": 20,
   "id": "7e78c785",
   "metadata": {},
   "outputs": [],
   "source": [
    "even= lambda x: x%2==0"
   ]
  },
  {
   "cell_type": "code",
   "execution_count": 21,
   "id": "dbd808bf",
   "metadata": {},
   "outputs": [
    {
     "data": {
      "text/plain": [
       "True"
      ]
     },
     "execution_count": 21,
     "metadata": {},
     "output_type": "execute_result"
    }
   ],
   "source": [
    "even(10)"
   ]
  },
  {
   "cell_type": "code",
   "execution_count": 22,
   "id": "46f51360",
   "metadata": {},
   "outputs": [
    {
     "data": {
      "text/plain": [
       "False"
      ]
     },
     "execution_count": 22,
     "metadata": {},
     "output_type": "execute_result"
    }
   ],
   "source": [
    "even(11)"
   ]
  },
  {
   "cell_type": "code",
   "execution_count": 24,
   "id": "385c5418",
   "metadata": {},
   "outputs": [],
   "source": [
    "even= lambda x: 'even' if x%2==0 else 'odd'"
   ]
  },
  {
   "cell_type": "code",
   "execution_count": 25,
   "id": "67b0820a",
   "metadata": {},
   "outputs": [
    {
     "data": {
      "text/plain": [
       "'odd'"
      ]
     },
     "execution_count": 25,
     "metadata": {},
     "output_type": "execute_result"
    }
   ],
   "source": [
    "even(11)"
   ]
  },
  {
   "cell_type": "code",
   "execution_count": 26,
   "id": "6e38e1c6",
   "metadata": {},
   "outputs": [
    {
     "data": {
      "text/plain": [
       "'even'"
      ]
     },
     "execution_count": 26,
     "metadata": {},
     "output_type": "execute_result"
    }
   ],
   "source": [
    "even(10)"
   ]
  },
  {
   "cell_type": "markdown",
   "id": "09d964d2",
   "metadata": {},
   "source": [
    "# filter(function, iterable/sequencial_obj)\n",
    "The filter() is a built-in function that is used to filter the elements from the iterable object like list, set, tuple e.t.c. This function will directly filter the elements in an iterable by taking the condition as a function"
   ]
  },
  {
   "cell_type": "code",
   "execution_count": 27,
   "id": "2dfa8e29",
   "metadata": {},
   "outputs": [],
   "source": [
    "def even(x):\n",
    "    return x%2==0"
   ]
  },
  {
   "cell_type": "code",
   "execution_count": 28,
   "id": "db39316e",
   "metadata": {},
   "outputs": [
    {
     "data": {
      "text/plain": [
       "True"
      ]
     },
     "execution_count": 28,
     "metadata": {},
     "output_type": "execute_result"
    }
   ],
   "source": [
    "even(10)"
   ]
  },
  {
   "cell_type": "code",
   "execution_count": 29,
   "id": "8f0ed74b",
   "metadata": {},
   "outputs": [
    {
     "data": {
      "text/plain": [
       "False"
      ]
     },
     "execution_count": 29,
     "metadata": {},
     "output_type": "execute_result"
    }
   ],
   "source": [
    "even(9)"
   ]
  },
  {
   "cell_type": "code",
   "execution_count": 30,
   "id": "38e2f0aa",
   "metadata": {},
   "outputs": [],
   "source": [
    "fil_obj= filter(None, [1,2,3,0,4,5,6])"
   ]
  },
  {
   "cell_type": "code",
   "execution_count": 31,
   "id": "45791dbd",
   "metadata": {},
   "outputs": [
    {
     "name": "stdout",
     "output_type": "stream",
     "text": [
      "1 2 3 4 5 6\n"
     ]
    }
   ],
   "source": [
    "print(*fil_obj)"
   ]
  },
  {
   "cell_type": "code",
   "execution_count": 34,
   "id": "25466709",
   "metadata": {},
   "outputs": [
    {
     "ename": "TypeError",
     "evalue": "even() missing 1 required positional argument: 'x'",
     "output_type": "error",
     "traceback": [
      "\u001b[1;31m---------------------------------------------------------------------------\u001b[0m",
      "\u001b[1;31mTypeError\u001b[0m                                 Traceback (most recent call last)",
      "Cell \u001b[1;32mIn[34], line 1\u001b[0m\n\u001b[1;32m----> 1\u001b[0m fil_obj\u001b[38;5;241m=\u001b[39m \u001b[38;5;28mfilter\u001b[39m(\u001b[43meven\u001b[49m\u001b[43m(\u001b[49m\u001b[43m)\u001b[49m, [\u001b[38;5;241m1\u001b[39m,\u001b[38;5;241m2\u001b[39m,\u001b[38;5;241m3\u001b[39m,\u001b[38;5;241m0\u001b[39m,\u001b[38;5;241m4\u001b[39m,\u001b[38;5;241m5\u001b[39m,\u001b[38;5;241m6\u001b[39m])\n",
      "\u001b[1;31mTypeError\u001b[0m: even() missing 1 required positional argument: 'x'"
     ]
    }
   ],
   "source": [
    "fil_obj= filter(even(), [1,2,3,0,4,5,6])"
   ]
  },
  {
   "cell_type": "code",
   "execution_count": 35,
   "id": "b65b0266",
   "metadata": {},
   "outputs": [],
   "source": [
    "fil_obj= filter(even, [1,2,3,0,4,5,6])"
   ]
  },
  {
   "cell_type": "code",
   "execution_count": 37,
   "id": "7eebbfbc",
   "metadata": {},
   "outputs": [
    {
     "name": "stdout",
     "output_type": "stream",
     "text": [
      "2 0 4 6\n"
     ]
    }
   ],
   "source": [
    "print(*fil_obj)"
   ]
  },
  {
   "cell_type": "code",
   "execution_count": 38,
   "id": "987af216",
   "metadata": {},
   "outputs": [
    {
     "name": "stdout",
     "output_type": "stream",
     "text": [
      "\n"
     ]
    }
   ],
   "source": [
    "print(*fil_obj)"
   ]
  },
  {
   "cell_type": "code",
   "execution_count": 58,
   "id": "746435c6",
   "metadata": {},
   "outputs": [],
   "source": [
    "#lambda+filter\n",
    "\n",
    "fil_obj= filter(lambda x: x%2==0 , [1,2,3,0,4,5,6,12,18])"
   ]
  },
  {
   "cell_type": "markdown",
   "id": "0c8d8a91",
   "metadata": {},
   "source": [
    "# next(iterator)\n",
    "The next() function returns the next item in an iterator. You can add a default return value, to return if the iterable has reached to its end.\n",
    "\n",
    "\n",
    "next(fil_obj)"
   ]
  },
  {
   "cell_type": "code",
   "execution_count": 59,
   "id": "52ed84a9",
   "metadata": {},
   "outputs": [
    {
     "data": {
      "text/plain": [
       "2"
      ]
     },
     "execution_count": 59,
     "metadata": {},
     "output_type": "execute_result"
    }
   ],
   "source": [
    "next(fil_obj)"
   ]
  },
  {
   "cell_type": "code",
   "execution_count": 60,
   "id": "1af30f75",
   "metadata": {},
   "outputs": [
    {
     "data": {
      "text/plain": [
       "0"
      ]
     },
     "execution_count": 60,
     "metadata": {},
     "output_type": "execute_result"
    }
   ],
   "source": [
    "next(fil_obj)"
   ]
  },
  {
   "cell_type": "code",
   "execution_count": 61,
   "id": "55d652ba",
   "metadata": {},
   "outputs": [
    {
     "data": {
      "text/plain": [
       "4"
      ]
     },
     "execution_count": 61,
     "metadata": {},
     "output_type": "execute_result"
    }
   ],
   "source": [
    "next(fil_obj)"
   ]
  },
  {
   "cell_type": "code",
   "execution_count": 62,
   "id": "a6ac58f4",
   "metadata": {},
   "outputs": [
    {
     "data": {
      "text/plain": [
       "6"
      ]
     },
     "execution_count": 62,
     "metadata": {},
     "output_type": "execute_result"
    }
   ],
   "source": [
    "next(fil_obj)"
   ]
  },
  {
   "cell_type": "code",
   "execution_count": 63,
   "id": "c45125e7",
   "metadata": {},
   "outputs": [
    {
     "data": {
      "text/plain": [
       "12"
      ]
     },
     "execution_count": 63,
     "metadata": {},
     "output_type": "execute_result"
    }
   ],
   "source": [
    "next(fil_obj)"
   ]
  },
  {
   "cell_type": "code",
   "execution_count": 64,
   "id": "6d821ff4",
   "metadata": {},
   "outputs": [
    {
     "data": {
      "text/plain": [
       "18"
      ]
     },
     "execution_count": 64,
     "metadata": {},
     "output_type": "execute_result"
    }
   ],
   "source": [
    "next(fil_obj)"
   ]
  },
  {
   "cell_type": "code",
   "execution_count": 65,
   "id": "306db6c3",
   "metadata": {},
   "outputs": [
    {
     "ename": "StopIteration",
     "evalue": "",
     "output_type": "error",
     "traceback": [
      "\u001b[1;31m---------------------------------------------------------------------------\u001b[0m",
      "\u001b[1;31mStopIteration\u001b[0m                             Traceback (most recent call last)",
      "Cell \u001b[1;32mIn[65], line 1\u001b[0m\n\u001b[1;32m----> 1\u001b[0m \u001b[38;5;28;43mnext\u001b[39;49m\u001b[43m(\u001b[49m\u001b[43mfil_obj\u001b[49m\u001b[43m)\u001b[49m\n",
      "\u001b[1;31mStopIteration\u001b[0m: "
     ]
    }
   ],
   "source": [
    "next(fil_obj)"
   ]
  },
  {
   "cell_type": "markdown",
   "id": "a7ec51eb",
   "metadata": {},
   "source": [
    "\n",
    "# reduce(function, iterable/sequencial_obj)\n",
    "\n",
    "The reduce(fun,seq) function is used to apply a particular function passed in its argument to all of the list elements mentioned in the sequence passed along.\n",
    "\n",
    "This function is defined in “functools” module."
   ]
  },
  {
   "cell_type": "code",
   "execution_count": 66,
   "id": "5e465a2f",
   "metadata": {},
   "outputs": [
    {
     "data": {
      "text/plain": [
       "10"
      ]
     },
     "execution_count": 66,
     "metadata": {},
     "output_type": "execute_result"
    }
   ],
   "source": [
    "add(5,5)"
   ]
  },
  {
   "cell_type": "code",
   "execution_count": 71,
   "id": "d1d6bdb0",
   "metadata": {},
   "outputs": [],
   "source": [
    "from functools import reduce"
   ]
  },
  {
   "cell_type": "code",
   "execution_count": 72,
   "id": "da87aa03",
   "metadata": {},
   "outputs": [
    {
     "data": {
      "text/plain": [
       "10"
      ]
     },
     "execution_count": 72,
     "metadata": {},
     "output_type": "execute_result"
    }
   ],
   "source": [
    "reduce(add, [2,2,2,2,2])"
   ]
  },
  {
   "cell_type": "code",
   "execution_count": 76,
   "id": "0721cf7c",
   "metadata": {},
   "outputs": [
    {
     "data": {
      "text/plain": [
       "3"
      ]
     },
     "execution_count": 76,
     "metadata": {},
     "output_type": "execute_result"
    }
   ],
   "source": [
    "reduce (lambda x,y:x+y, [2,1])"
   ]
  },
  {
   "cell_type": "markdown",
   "id": "365bedf9",
   "metadata": {},
   "source": [
    "# map(function, iterable/sequencial_obj)\n",
    "map() function returns a map object(which is an iterator) of the results after applying the given function to each item of a given iterable (list, tuple etc.)\n",
    "\n",
    "NOTE : You can pass one or more iterable to the map() function."
   ]
  },
  {
   "cell_type": "code",
   "execution_count": 80,
   "id": "05d7e6a5",
   "metadata": {},
   "outputs": [
    {
     "data": {
      "text/plain": [
       "<map at 0x27eabc5afe0>"
      ]
     },
     "execution_count": 80,
     "metadata": {},
     "output_type": "execute_result"
    }
   ],
   "source": [
    "map(add,[1,2,3,4,5])"
   ]
  },
  {
   "cell_type": "code",
   "execution_count": 81,
   "id": "3913249f",
   "metadata": {},
   "outputs": [],
   "source": [
    "mp= map(lambda x:x%2==0, [2,1,2,4,6,7,0])"
   ]
  },
  {
   "cell_type": "code",
   "execution_count": 83,
   "id": "5cb779a1",
   "metadata": {},
   "outputs": [
    {
     "name": "stdout",
     "output_type": "stream",
     "text": [
      "True False True True True False True\n"
     ]
    }
   ],
   "source": [
    "print(*mp)"
   ]
  },
  {
   "cell_type": "code",
   "execution_count": 93,
   "id": "01ea3002",
   "metadata": {},
   "outputs": [],
   "source": [
    "mp= map(lambda x: 'E' if x%2==0 else 'O',[2,1,2,4,6,7,0])"
   ]
  },
  {
   "cell_type": "code",
   "execution_count": 94,
   "id": "4461b820",
   "metadata": {},
   "outputs": [
    {
     "name": "stdout",
     "output_type": "stream",
     "text": [
      "E O E E E O E\n"
     ]
    }
   ],
   "source": [
    "print(*mp)"
   ]
  },
  {
   "cell_type": "code",
   "execution_count": 97,
   "id": "e28e3c46",
   "metadata": {},
   "outputs": [],
   "source": [
    "mp= map(lambda x: x if x%2==0 else 0,[2,1,2,4,6,7,0])"
   ]
  },
  {
   "cell_type": "code",
   "execution_count": 98,
   "id": "c6f4d372",
   "metadata": {},
   "outputs": [
    {
     "name": "stdout",
     "output_type": "stream",
     "text": [
      "2 0 2 4 6 0 0\n"
     ]
    }
   ],
   "source": [
    "print(*mp)"
   ]
  },
  {
   "cell_type": "code",
   "execution_count": null,
   "id": "e670ec14",
   "metadata": {},
   "outputs": [],
   "source": []
  }
 ],
 "metadata": {
  "kernelspec": {
   "display_name": "Python 3 (ipykernel)",
   "language": "python",
   "name": "python3"
  },
  "language_info": {
   "codemirror_mode": {
    "name": "ipython",
    "version": 3
   },
   "file_extension": ".py",
   "mimetype": "text/x-python",
   "name": "python",
   "nbconvert_exporter": "python",
   "pygments_lexer": "ipython3",
   "version": "3.10.9"
  }
 },
 "nbformat": 4,
 "nbformat_minor": 5
}
