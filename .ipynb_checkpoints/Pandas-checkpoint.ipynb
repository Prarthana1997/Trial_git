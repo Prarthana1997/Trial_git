{
 "cells": [
  {
   "cell_type": "code",
   "execution_count": 1,
   "id": "619e6cf3",
   "metadata": {},
   "outputs": [],
   "source": [
    "import pandas as pd"
   ]
  },
  {
   "cell_type": "code",
   "execution_count": 3,
   "id": "7520b707",
   "metadata": {},
   "outputs": [
    {
     "name": "stdout",
     "output_type": "stream",
     "text": [
      "   A  B   C\n",
      "0  1  5   9\n",
      "1  2  6  10\n",
      "2  3  7  11\n",
      "3  4  8  12\n"
     ]
    }
   ],
   "source": [
    "x = {\n",
    "    \"A\":[1,2,3,4],\n",
    "    \"B\":[5,6,7,8],\n",
    "    \"C\":[9,10,11,12]\n",
    "}\n",
    "\n",
    "var = pd.DataFrame(x)\n",
    "var.to_csv(\"Test.csv\")\n",
    "print(var)"
   ]
  },
  {
   "cell_type": "code",
   "execution_count": 5,
   "id": "c6badc4b",
   "metadata": {},
   "outputs": [
    {
     "name": "stdout",
     "output_type": "stream",
     "text": [
      "   A  B   C\n",
      "0  1  5   9\n",
      "1  2  6  10\n",
      "2  3  7  11\n",
      "3  4  8  12\n"
     ]
    }
   ],
   "source": [
    "x = {\n",
    "    \"A\":[1,2,3,4],\n",
    "    \"B\":[5,6,7,8],\n",
    "    \"C\":[9,10,11,12]\n",
    "}\n",
    "\n",
    "var = pd.DataFrame(x)\n",
    "var.to_csv(\"Test1.csv\", index=False, header=[1,2,3])\n",
    "print(var)"
   ]
  },
  {
   "cell_type": "code",
   "execution_count": null,
   "id": "1720bfbe",
   "metadata": {},
   "outputs": [],
   "source": []
  }
 ],
 "metadata": {
  "kernelspec": {
   "display_name": "Python 3 (ipykernel)",
   "language": "python",
   "name": "python3"
  },
  "language_info": {
   "codemirror_mode": {
    "name": "ipython",
    "version": 3
   },
   "file_extension": ".py",
   "mimetype": "text/x-python",
   "name": "python",
   "nbconvert_exporter": "python",
   "pygments_lexer": "ipython3",
   "version": "3.10.9"
  }
 },
 "nbformat": 4,
 "nbformat_minor": 5
}
