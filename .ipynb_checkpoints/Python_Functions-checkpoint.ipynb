{
 "cells": [
  {
   "cell_type": "markdown",
   "id": "89ab4a66",
   "metadata": {},
   "source": [
    "# Function in Python\n",
    "What is function?\n",
    "A function is a block of organized, resusable code that is used to perform a single, related action.\n",
    "Functions provides better modularity for your application and a high degree of code reusing.\n",
    "A function is defined using def keyword."
   ]
  },
  {
   "cell_type": "code",
   "execution_count": 2,
   "id": "386f3d0d",
   "metadata": {},
   "outputs": [],
   "source": [
    "# basic function\n",
    "\n",
    "def abc():\n",
    "    print('abc is called: ')"
   ]
  },
  {
   "cell_type": "code",
   "execution_count": 4,
   "id": "6354461c",
   "metadata": {},
   "outputs": [
    {
     "data": {
      "text/plain": [
       "function"
      ]
     },
     "execution_count": 4,
     "metadata": {},
     "output_type": "execute_result"
    }
   ],
   "source": [
    "type(abc)"
   ]
  },
  {
   "cell_type": "code",
   "execution_count": 6,
   "id": "58b7ccba",
   "metadata": {},
   "outputs": [
    {
     "name": "stdout",
     "output_type": "stream",
     "text": [
      "abc is called: \n"
     ]
    }
   ],
   "source": [
    "abc()"
   ]
  },
  {
   "cell_type": "code",
   "execution_count": 8,
   "id": "547be717",
   "metadata": {},
   "outputs": [],
   "source": [
    "xyz=abc"
   ]
  },
  {
   "cell_type": "code",
   "execution_count": 9,
   "id": "b5fd35c9",
   "metadata": {},
   "outputs": [
    {
     "name": "stdout",
     "output_type": "stream",
     "text": [
      "abc is called: \n"
     ]
    }
   ],
   "source": [
    "xyz()"
   ]
  },
  {
   "cell_type": "code",
   "execution_count": 10,
   "id": "e41e8946",
   "metadata": {},
   "outputs": [
    {
     "data": {
      "text/plain": [
       "'abc'"
      ]
     },
     "execution_count": 10,
     "metadata": {},
     "output_type": "execute_result"
    }
   ],
   "source": [
    "xyz.__name__"
   ]
  },
  {
   "cell_type": "code",
   "execution_count": 11,
   "id": "3172199c",
   "metadata": {},
   "outputs": [
    {
     "data": {
      "text/plain": [
       "function"
      ]
     },
     "execution_count": 11,
     "metadata": {},
     "output_type": "execute_result"
    }
   ],
   "source": [
    "type(xyz)"
   ]
  },
  {
   "cell_type": "code",
   "execution_count": 12,
   "id": "1f7fc1e2",
   "metadata": {},
   "outputs": [
    {
     "name": "stdout",
     "output_type": "stream",
     "text": [
      "abc is called: \n"
     ]
    }
   ],
   "source": [
    "xyz()"
   ]
  },
  {
   "cell_type": "code",
   "execution_count": 13,
   "id": "741bcdb0",
   "metadata": {},
   "outputs": [
    {
     "name": "stdout",
     "output_type": "stream",
     "text": [
      "abc is called: \n"
     ]
    }
   ],
   "source": [
    "abc()"
   ]
  },
  {
   "cell_type": "code",
   "execution_count": 14,
   "id": "1ba99483",
   "metadata": {},
   "outputs": [
    {
     "name": "stdout",
     "output_type": "stream",
     "text": [
      "abc is called: \n"
     ]
    }
   ],
   "source": [
    "# non-returning function\n",
    "'Return' without an expression argument returns None.\n",
    "\n",
    "p=abc()"
   ]
  },
  {
   "cell_type": "code",
   "execution_count": 15,
   "id": "e3af0fda",
   "metadata": {},
   "outputs": [],
   "source": [
    "p"
   ]
  },
  {
   "cell_type": "code",
   "execution_count": 16,
   "id": "fe2b5bd4",
   "metadata": {},
   "outputs": [
    {
     "data": {
      "text/plain": [
       "NoneType"
      ]
     },
     "execution_count": 16,
     "metadata": {},
     "output_type": "execute_result"
    }
   ],
   "source": [
    "type(p)"
   ]
  },
  {
   "cell_type": "code",
   "execution_count": 21,
   "id": "d28bc366",
   "metadata": {},
   "outputs": [
    {
     "data": {
      "text/plain": [
       "NoneType"
      ]
     },
     "execution_count": 21,
     "metadata": {},
     "output_type": "execute_result"
    }
   ],
   "source": [
    "type(None)"
   ]
  },
  {
   "cell_type": "code",
   "execution_count": 25,
   "id": "c20fbe0e",
   "metadata": {},
   "outputs": [
    {
     "ename": "SyntaxError",
     "evalue": "invalid syntax (3749115043.py, line 2)",
     "output_type": "error",
     "traceback": [
      "\u001b[1;36m  Cell \u001b[1;32mIn[25], line 2\u001b[1;36m\u001b[0m\n\u001b[1;33m    The return statement returns with a value from a function.\u001b[0m\n\u001b[1;37m        ^\u001b[0m\n\u001b[1;31mSyntaxError\u001b[0m\u001b[1;31m:\u001b[0m invalid syntax\n"
     ]
    }
   ],
   "source": [
    "#returning function\n",
    "The return statement returns with a value from a function.\n",
    "\n",
    "def test():\n",
    "    return 'test is called:'"
   ]
  },
  {
   "cell_type": "code",
   "execution_count": 26,
   "id": "0b4b0708",
   "metadata": {},
   "outputs": [],
   "source": [
    "def test():\n",
    "    return 'test is called:'"
   ]
  },
  {
   "cell_type": "code",
   "execution_count": 27,
   "id": "9648d907",
   "metadata": {},
   "outputs": [
    {
     "data": {
      "text/plain": [
       "'test is called:'"
      ]
     },
     "execution_count": 27,
     "metadata": {},
     "output_type": "execute_result"
    }
   ],
   "source": [
    "test()"
   ]
  },
  {
   "cell_type": "code",
   "execution_count": 28,
   "id": "5f98ebbd",
   "metadata": {},
   "outputs": [],
   "source": [
    "a=test()"
   ]
  },
  {
   "cell_type": "code",
   "execution_count": 29,
   "id": "ef07291c",
   "metadata": {},
   "outputs": [
    {
     "data": {
      "text/plain": [
       "'test is called:'"
      ]
     },
     "execution_count": 29,
     "metadata": {},
     "output_type": "execute_result"
    }
   ],
   "source": [
    "a"
   ]
  },
  {
   "cell_type": "code",
   "execution_count": 30,
   "id": "24d19cbd",
   "metadata": {},
   "outputs": [
    {
     "data": {
      "text/plain": [
       "str"
      ]
     },
     "execution_count": 30,
     "metadata": {},
     "output_type": "execute_result"
    }
   ],
   "source": [
    "type(a)"
   ]
  },
  {
   "cell_type": "code",
   "execution_count": 31,
   "id": "6c69f1ef",
   "metadata": {},
   "outputs": [
    {
     "data": {
      "text/plain": [
       "function"
      ]
     },
     "execution_count": 31,
     "metadata": {},
     "output_type": "execute_result"
    }
   ],
   "source": [
    "type(test)"
   ]
  },
  {
   "cell_type": "code",
   "execution_count": 32,
   "id": "45cf21d3",
   "metadata": {},
   "outputs": [],
   "source": [
    "def is_even(x):\n",
    "    return x % 2==0"
   ]
  },
  {
   "cell_type": "code",
   "execution_count": 33,
   "id": "f1079f97",
   "metadata": {},
   "outputs": [
    {
     "data": {
      "text/plain": [
       "True"
      ]
     },
     "execution_count": 33,
     "metadata": {},
     "output_type": "execute_result"
    }
   ],
   "source": [
    "is_even(4)"
   ]
  },
  {
   "cell_type": "code",
   "execution_count": 34,
   "id": "c42906fe",
   "metadata": {},
   "outputs": [
    {
     "data": {
      "text/plain": [
       "False"
      ]
     },
     "execution_count": 34,
     "metadata": {},
     "output_type": "execute_result"
    }
   ],
   "source": [
    "is_even(5)"
   ]
  },
  {
   "cell_type": "code",
   "execution_count": 35,
   "id": "1602f87d",
   "metadata": {},
   "outputs": [
    {
     "data": {
      "text/plain": [
       "False"
      ]
     },
     "execution_count": 35,
     "metadata": {},
     "output_type": "execute_result"
    }
   ],
   "source": [
    "is_even(4.5)"
   ]
  },
  {
   "cell_type": "code",
   "execution_count": 36,
   "id": "f7df974b",
   "metadata": {},
   "outputs": [],
   "source": [
    "#add \n",
    "\n",
    "def add(x,y):\n",
    "    return x+y"
   ]
  },
  {
   "cell_type": "code",
   "execution_count": 37,
   "id": "0985bf18",
   "metadata": {},
   "outputs": [
    {
     "data": {
      "text/plain": [
       "10"
      ]
     },
     "execution_count": 37,
     "metadata": {},
     "output_type": "execute_result"
    }
   ],
   "source": [
    "add(5,5)"
   ]
  },
  {
   "cell_type": "code",
   "execution_count": 38,
   "id": "6f8b8255",
   "metadata": {},
   "outputs": [
    {
     "data": {
      "text/plain": [
       "16.0"
      ]
     },
     "execution_count": 38,
     "metadata": {},
     "output_type": "execute_result"
    }
   ],
   "source": [
    "add(5.5,10.5)"
   ]
  },
  {
   "cell_type": "code",
   "execution_count": 39,
   "id": "e88afb48",
   "metadata": {},
   "outputs": [],
   "source": [
    "def addi(x,y,z):\n",
    "    return x+y+z\n"
   ]
  },
  {
   "cell_type": "code",
   "execution_count": 40,
   "id": "5496a2f1",
   "metadata": {},
   "outputs": [
    {
     "data": {
      "text/plain": [
       "10"
      ]
     },
     "execution_count": 40,
     "metadata": {},
     "output_type": "execute_result"
    }
   ],
   "source": [
    "addi(5,2,3)"
   ]
  },
  {
   "cell_type": "code",
   "execution_count": 41,
   "id": "3ba201b1",
   "metadata": {},
   "outputs": [
    {
     "ename": "TypeError",
     "evalue": "addi() missing 1 required positional argument: 'z'",
     "output_type": "error",
     "traceback": [
      "\u001b[1;31m---------------------------------------------------------------------------\u001b[0m",
      "\u001b[1;31mTypeError\u001b[0m                                 Traceback (most recent call last)",
      "Cell \u001b[1;32mIn[41], line 1\u001b[0m\n\u001b[1;32m----> 1\u001b[0m \u001b[43maddi\u001b[49m\u001b[43m(\u001b[49m\u001b[38;5;241;43m9\u001b[39;49m\u001b[43m,\u001b[49m\u001b[38;5;241;43m1\u001b[39;49m\u001b[43m)\u001b[49m\n",
      "\u001b[1;31mTypeError\u001b[0m: addi() missing 1 required positional argument: 'z'"
     ]
    }
   ],
   "source": [
    "addi(9,1)"
   ]
  },
  {
   "cell_type": "code",
   "execution_count": 42,
   "id": "35a37029",
   "metadata": {},
   "outputs": [],
   "source": [
    "# default argument\n",
    "\n",
    "def addi(x,y,z=0):\n",
    "    return x+y+z"
   ]
  },
  {
   "cell_type": "code",
   "execution_count": 43,
   "id": "6288b515",
   "metadata": {},
   "outputs": [
    {
     "data": {
      "text/plain": [
       "7"
      ]
     },
     "execution_count": 43,
     "metadata": {},
     "output_type": "execute_result"
    }
   ],
   "source": [
    "addi(3,4)"
   ]
  },
  {
   "cell_type": "code",
   "execution_count": 44,
   "id": "7ceb7303",
   "metadata": {},
   "outputs": [
    {
     "data": {
      "text/plain": [
       "9"
      ]
     },
     "execution_count": 44,
     "metadata": {},
     "output_type": "execute_result"
    }
   ],
   "source": [
    "addi(3,5,1)"
   ]
  },
  {
   "cell_type": "markdown",
   "id": "96537766",
   "metadata": {},
   "source": [
    "# arbitrary argument list\n",
    "\n",
    "Arbitrary Positional Arguments -> *args | tuple\n",
    "If you do not know how many arguments that will be passed into your function, add a * before the parameter name in the function definition."
   ]
  },
  {
   "cell_type": "code",
   "execution_count": 49,
   "id": "5f46b669",
   "metadata": {},
   "outputs": [],
   "source": [
    "def add(*numbers):\n",
    "    return numbers"
   ]
  },
  {
   "cell_type": "code",
   "execution_count": 50,
   "id": "429d25a4",
   "metadata": {},
   "outputs": [
    {
     "data": {
      "text/plain": [
       "(2, 1, 3, 5, 1, 1)"
      ]
     },
     "execution_count": 50,
     "metadata": {},
     "output_type": "execute_result"
    }
   ],
   "source": [
    "add(2,1,3,5,1,1,)"
   ]
  },
  {
   "cell_type": "code",
   "execution_count": 51,
   "id": "208fba41",
   "metadata": {},
   "outputs": [],
   "source": [
    "def add(*num):\n",
    "    z=0\n",
    "    for i in num:\n",
    "        z+=i\n",
    "    return z"
   ]
  },
  {
   "cell_type": "code",
   "execution_count": 52,
   "id": "9df30cc1",
   "metadata": {},
   "outputs": [
    {
     "data": {
      "text/plain": [
       "15"
      ]
     },
     "execution_count": 52,
     "metadata": {},
     "output_type": "execute_result"
    }
   ],
   "source": [
    "add(1,2,3,4,5)"
   ]
  },
  {
   "cell_type": "code",
   "execution_count": 53,
   "id": "c3922234",
   "metadata": {},
   "outputs": [],
   "source": [
    "def add(x,y,*num):\n",
    "    z=x+y\n",
    "    for i in num:\n",
    "        z+=i\n",
    "    return z"
   ]
  },
  {
   "cell_type": "code",
   "execution_count": 54,
   "id": "e2573197",
   "metadata": {},
   "outputs": [
    {
     "data": {
      "text/plain": [
       "20"
      ]
     },
     "execution_count": 54,
     "metadata": {},
     "output_type": "execute_result"
    }
   ],
   "source": [
    "add(3,2,1,4,10)"
   ]
  },
  {
   "cell_type": "code",
   "execution_count": 61,
   "id": "a44a9360",
   "metadata": {},
   "outputs": [
    {
     "data": {
      "text/plain": [
       "5"
      ]
     },
     "execution_count": 61,
     "metadata": {},
     "output_type": "execute_result"
    }
   ],
   "source": [
    "add(3,2)"
   ]
  },
  {
   "cell_type": "code",
   "execution_count": 77,
   "id": "a651d1b9",
   "metadata": {},
   "outputs": [],
   "source": [
    "#area of circle \n",
    "\n",
    "def circle(r):\n",
    "    pi=3.14\n",
    "    return pi*(r**2)"
   ]
  },
  {
   "cell_type": "code",
   "execution_count": 88,
   "id": "d108389b",
   "metadata": {},
   "outputs": [
    {
     "data": {
      "text/plain": [
       "50.24"
      ]
     },
     "execution_count": 88,
     "metadata": {},
     "output_type": "execute_result"
    }
   ],
   "source": [
    "circle(4)"
   ]
  },
  {
   "cell_type": "code",
   "execution_count": 79,
   "id": "e93082df",
   "metadata": {},
   "outputs": [
    {
     "data": {
      "text/plain": [
       "1962.5"
      ]
     },
     "execution_count": 79,
     "metadata": {},
     "output_type": "execute_result"
    }
   ],
   "source": [
    "circle(25)"
   ]
  },
  {
   "cell_type": "code",
   "execution_count": 85,
   "id": "c6c7f97f",
   "metadata": {},
   "outputs": [],
   "source": [
    "#are of triangle\n",
    "\n",
    "def tri(height,base):\n",
    "    a= height*base\n",
    "    return a/2"
   ]
  },
  {
   "cell_type": "code",
   "execution_count": 86,
   "id": "198895a1",
   "metadata": {},
   "outputs": [
    {
     "data": {
      "text/plain": [
       "10.0"
      ]
     },
     "execution_count": 86,
     "metadata": {},
     "output_type": "execute_result"
    }
   ],
   "source": [
    "tri(2,10)"
   ]
  },
  {
   "cell_type": "raw",
   "id": "832b13dd",
   "metadata": {},
   "source": [
    "tri(5.5,8)"
   ]
  },
  {
   "cell_type": "code",
   "execution_count": 87,
   "id": "a686e762",
   "metadata": {},
   "outputs": [
    {
     "data": {
      "text/plain": [
       "22.0"
      ]
     },
     "execution_count": 87,
     "metadata": {},
     "output_type": "execute_result"
    }
   ],
   "source": [
    "tri(5.5,8)"
   ]
  },
  {
   "cell_type": "code",
   "execution_count": 89,
   "id": "3d37604f",
   "metadata": {},
   "outputs": [],
   "source": [
    "#area of trapezium\n",
    "\n",
    "def trp(a,b,h):\n",
    "    z=a+b\n",
    "    return (z*h)/2"
   ]
  },
  {
   "cell_type": "code",
   "execution_count": 90,
   "id": "7852f71e",
   "metadata": {},
   "outputs": [
    {
     "data": {
      "text/plain": [
       "30.0"
      ]
     },
     "execution_count": 90,
     "metadata": {},
     "output_type": "execute_result"
    }
   ],
   "source": [
    "trp(2,4,10)"
   ]
  },
  {
   "cell_type": "code",
   "execution_count": 91,
   "id": "36d79a23",
   "metadata": {},
   "outputs": [
    {
     "data": {
      "text/plain": [
       "22.75"
      ]
     },
     "execution_count": 91,
     "metadata": {},
     "output_type": "execute_result"
    }
   ],
   "source": [
    "trp(2.5,10.5,3.5)"
   ]
  },
  {
   "cell_type": "markdown",
   "id": "49465944",
   "metadata": {},
   "source": [
    "# Arbitrary Keyword Arguments\n",
    "\n",
    "Arbitrary Keyword Arguments -> **args | dict\n",
    "\n",
    "If you do not know how many arguments that will be passed into your function, add two ** before the parameter name in the function definition."
   ]
  },
  {
   "cell_type": "code",
   "execution_count": 58,
   "id": "651ea3c8",
   "metadata": {},
   "outputs": [],
   "source": [
    "def info(**data):\n",
    "    return data"
   ]
  },
  {
   "cell_type": "code",
   "execution_count": 59,
   "id": "a3a809f1",
   "metadata": {},
   "outputs": [
    {
     "data": {
      "text/plain": [
       "{}"
      ]
     },
     "execution_count": 59,
     "metadata": {},
     "output_type": "execute_result"
    }
   ],
   "source": [
    "info()"
   ]
  },
  {
   "cell_type": "code",
   "execution_count": 94,
   "id": "a2cb842a",
   "metadata": {},
   "outputs": [
    {
     "data": {
      "text/plain": [
       "{'name': 'prarthana', 'city': 'ahmedabad'}"
      ]
     },
     "execution_count": 94,
     "metadata": {},
     "output_type": "execute_result"
    }
   ],
   "source": [
    "info(name='prarthana',city='ahmedabad')"
   ]
  },
  {
   "cell_type": "code",
   "execution_count": 99,
   "id": "3e748637",
   "metadata": {},
   "outputs": [],
   "source": [
    "def info(name,age,**other):\n",
    "    return other"
   ]
  },
  {
   "cell_type": "code",
   "execution_count": 101,
   "id": "12361491",
   "metadata": {},
   "outputs": [
    {
     "data": {
      "text/plain": [
       "{}"
      ]
     },
     "execution_count": 101,
     "metadata": {},
     "output_type": "execute_result"
    }
   ],
   "source": [
    "info('prarthana', 25)"
   ]
  },
  {
   "cell_type": "code",
   "execution_count": 103,
   "id": "2c035979",
   "metadata": {},
   "outputs": [],
   "source": [
    "def info(name,age,**other):\n",
    "    data={'name':name , 'age':age}\n",
    "    return data"
   ]
  },
  {
   "cell_type": "code",
   "execution_count": 104,
   "id": "aa7878ad",
   "metadata": {},
   "outputs": [
    {
     "data": {
      "text/plain": [
       "{'name': 'prarthana', 'age': 25}"
      ]
     },
     "execution_count": 104,
     "metadata": {},
     "output_type": "execute_result"
    }
   ],
   "source": [
    "info('prarthana', 25)"
   ]
  },
  {
   "cell_type": "code",
   "execution_count": 106,
   "id": "9724ed65",
   "metadata": {},
   "outputs": [
    {
     "data": {
      "text/plain": [
       "{'name': 'prarthana', 'age': 25}"
      ]
     },
     "execution_count": 106,
     "metadata": {},
     "output_type": "execute_result"
    }
   ],
   "source": [
    "info('prarthana', 25, city='ahmedabad',country='india')"
   ]
  },
  {
   "cell_type": "code",
   "execution_count": 2,
   "id": "a4e763f0",
   "metadata": {},
   "outputs": [],
   "source": [
    "def info(name,age,**other):\n",
    "    data={'name':name , 'age':age}\n",
    "    data.update(other)\n",
    "    return data"
   ]
  },
  {
   "cell_type": "code",
   "execution_count": 3,
   "id": "9246a94d",
   "metadata": {},
   "outputs": [
    {
     "data": {
      "text/plain": [
       "{'name': 'prarthana', 'age': 25, 'city': 'ahmedabad', 'country': 'india'}"
      ]
     },
     "execution_count": 3,
     "metadata": {},
     "output_type": "execute_result"
    }
   ],
   "source": [
    "info('prarthana', 25, city='ahmedabad',country='india')"
   ]
  },
  {
   "cell_type": "code",
   "execution_count": 5,
   "id": "28f8106a",
   "metadata": {},
   "outputs": [
    {
     "name": "stdout",
     "output_type": "stream",
     "text": [
      "Enter your numbers: 1234\n",
      "******1234\n"
     ]
    }
   ],
   "source": [
    "#alt of zfill\n",
    "#input - 1234\n",
    "#length should be - 10\n",
    "#sample o/p- ******1234\n",
    "\n",
    "\n",
    "num= input('Enter your numbers: ')\n",
    "\n",
    "#len(ab)== 10\n",
    "\n",
    "print('*'*(10-len(num)) + num)  \n",
    "    "
   ]
  },
  {
   "cell_type": "code",
   "execution_count": null,
   "id": "c67d4bda",
   "metadata": {},
   "outputs": [],
   "source": [
    "#i/p = 1234523417\n",
    "#o/p = 1234-5234-17\n",
    "\n",
    "num=input('Enter your number: ')\n",
    "\n",
    "#num='12345678'\n",
    "mylist=list(num)\n",
    "\n",
    "for i in range(len(mylist)):\n",
    "    mylist2=mylist[i:4].append('-')\n",
    "print(mylist2)"
   ]
  },
  {
   "cell_type": "markdown",
   "id": "0a1369b4",
   "metadata": {},
   "source": [
    "#i/p = 1234523417\n",
    "#o/p = 1234-5234-17\n",
    "\n",
    "num=input('Enter your number: ')\n",
    "#l=len(num)\n",
    "max_len= 12\n",
    "print(num[0:4] + '-')\n",
    "#print('*'*(12-l) +num)"
   ]
  },
  {
   "cell_type": "code",
   "execution_count": 37,
   "id": "a2a91c02",
   "metadata": {},
   "outputs": [
    {
     "ename": "SyntaxError",
     "evalue": "invalid syntax (1587477225.py, line 4)",
     "output_type": "error",
     "traceback": [
      "\u001b[1;36m  Cell \u001b[1;32mIn[37], line 4\u001b[1;36m\u001b[0m\n\u001b[1;33m    s= [0:l-4]\u001b[0m\n\u001b[1;37m         ^\u001b[0m\n\u001b[1;31mSyntaxError\u001b[0m\u001b[1;31m:\u001b[0m invalid syntax\n"
     ]
    }
   ],
   "source": [
    "num = input('Enter your numbers: ')\n",
    "l=len(num)\n",
    "max_len= 12\n",
    "\n",
    "app= '-'\n",
    "print('*' * [0:l-4] + app)"
   ]
  },
  {
   "cell_type": "code",
   "execution_count": null,
   "id": "b8e6474d",
   "metadata": {},
   "outputs": [],
   "source": [
    "num="
   ]
  }
 ],
 "metadata": {
  "kernelspec": {
   "display_name": "Python 3 (ipykernel)",
   "language": "python",
   "name": "python3"
  },
  "language_info": {
   "codemirror_mode": {
    "name": "ipython",
    "version": 3
   },
   "file_extension": ".py",
   "mimetype": "text/x-python",
   "name": "python",
   "nbconvert_exporter": "python",
   "pygments_lexer": "ipython3",
   "version": "3.10.9"
  }
 },
 "nbformat": 4,
 "nbformat_minor": 5
}
