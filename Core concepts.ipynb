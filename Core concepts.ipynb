{
 "cells": [
  {
   "cell_type": "code",
   "execution_count": 1,
   "id": "430b8905",
   "metadata": {},
   "outputs": [],
   "source": [
    "#identifiers / variables / keyword\n",
    "\n",
    "name ='prarthana'\n"
   ]
  },
  {
   "cell_type": "code",
   "execution_count": 2,
   "id": "d77cf803",
   "metadata": {},
   "outputs": [
    {
     "data": {
      "text/plain": [
       "str"
      ]
     },
     "execution_count": 2,
     "metadata": {},
     "output_type": "execute_result"
    }
   ],
   "source": [
    "type(name)"
   ]
  },
  {
   "cell_type": "code",
   "execution_count": 3,
   "id": "4c7cdfef",
   "metadata": {},
   "outputs": [
    {
     "data": {
      "text/plain": [
       "9"
      ]
     },
     "execution_count": 3,
     "metadata": {},
     "output_type": "execute_result"
    }
   ],
   "source": [
    "len(name)"
   ]
  },
  {
   "cell_type": "code",
   "execution_count": 4,
   "id": "a88e083b",
   "metadata": {},
   "outputs": [
    {
     "data": {
      "text/plain": [
       "['__add__',\n",
       " '__class__',\n",
       " '__contains__',\n",
       " '__delattr__',\n",
       " '__dir__',\n",
       " '__doc__',\n",
       " '__eq__',\n",
       " '__format__',\n",
       " '__ge__',\n",
       " '__getattribute__',\n",
       " '__getitem__',\n",
       " '__getnewargs__',\n",
       " '__gt__',\n",
       " '__hash__',\n",
       " '__init__',\n",
       " '__init_subclass__',\n",
       " '__iter__',\n",
       " '__le__',\n",
       " '__len__',\n",
       " '__lt__',\n",
       " '__mod__',\n",
       " '__mul__',\n",
       " '__ne__',\n",
       " '__new__',\n",
       " '__reduce__',\n",
       " '__reduce_ex__',\n",
       " '__repr__',\n",
       " '__rmod__',\n",
       " '__rmul__',\n",
       " '__setattr__',\n",
       " '__sizeof__',\n",
       " '__str__',\n",
       " '__subclasshook__',\n",
       " 'capitalize',\n",
       " 'casefold',\n",
       " 'center',\n",
       " 'count',\n",
       " 'encode',\n",
       " 'endswith',\n",
       " 'expandtabs',\n",
       " 'find',\n",
       " 'format',\n",
       " 'format_map',\n",
       " 'index',\n",
       " 'isalnum',\n",
       " 'isalpha',\n",
       " 'isascii',\n",
       " 'isdecimal',\n",
       " 'isdigit',\n",
       " 'isidentifier',\n",
       " 'islower',\n",
       " 'isnumeric',\n",
       " 'isprintable',\n",
       " 'isspace',\n",
       " 'istitle',\n",
       " 'isupper',\n",
       " 'join',\n",
       " 'ljust',\n",
       " 'lower',\n",
       " 'lstrip',\n",
       " 'maketrans',\n",
       " 'partition',\n",
       " 'removeprefix',\n",
       " 'removesuffix',\n",
       " 'replace',\n",
       " 'rfind',\n",
       " 'rindex',\n",
       " 'rjust',\n",
       " 'rpartition',\n",
       " 'rsplit',\n",
       " 'rstrip',\n",
       " 'split',\n",
       " 'splitlines',\n",
       " 'startswith',\n",
       " 'strip',\n",
       " 'swapcase',\n",
       " 'title',\n",
       " 'translate',\n",
       " 'upper',\n",
       " 'zfill']"
      ]
     },
     "execution_count": 4,
     "metadata": {},
     "output_type": "execute_result"
    }
   ],
   "source": [
    "dir(name)"
   ]
  },
  {
   "cell_type": "code",
   "execution_count": 5,
   "id": "0f9fe2d5",
   "metadata": {},
   "outputs": [
    {
     "data": {
      "text/plain": [
       "2306144547824"
      ]
     },
     "execution_count": 5,
     "metadata": {},
     "output_type": "execute_result"
    }
   ],
   "source": [
    "id(name)"
   ]
  },
  {
   "cell_type": "code",
   "execution_count": 6,
   "id": "870e0feb",
   "metadata": {},
   "outputs": [],
   "source": [
    "num= 5"
   ]
  },
  {
   "cell_type": "code",
   "execution_count": 7,
   "id": "32ddc2b8",
   "metadata": {},
   "outputs": [
    {
     "data": {
      "text/plain": [
       "int"
      ]
     },
     "execution_count": 7,
     "metadata": {},
     "output_type": "execute_result"
    }
   ],
   "source": [
    "type(num)"
   ]
  },
  {
   "cell_type": "code",
   "execution_count": 8,
   "id": "748c794e",
   "metadata": {},
   "outputs": [
    {
     "data": {
      "text/plain": [
       "2306066153840"
      ]
     },
     "execution_count": 8,
     "metadata": {},
     "output_type": "execute_result"
    }
   ],
   "source": [
    "id(num)"
   ]
  },
  {
   "cell_type": "code",
   "execution_count": 9,
   "id": "f80ce82b",
   "metadata": {},
   "outputs": [],
   "source": [
    "price= 5.5"
   ]
  },
  {
   "cell_type": "code",
   "execution_count": 10,
   "id": "bdf4cb29",
   "metadata": {},
   "outputs": [
    {
     "data": {
      "text/plain": [
       "float"
      ]
     },
     "execution_count": 10,
     "metadata": {},
     "output_type": "execute_result"
    }
   ],
   "source": [
    "type(price)"
   ]
  },
  {
   "cell_type": "code",
   "execution_count": 11,
   "id": "6475102b",
   "metadata": {},
   "outputs": [],
   "source": [
    "com = 5+5j"
   ]
  },
  {
   "cell_type": "code",
   "execution_count": 12,
   "id": "cc8a7b96",
   "metadata": {},
   "outputs": [
    {
     "data": {
      "text/plain": [
       "complex"
      ]
     },
     "execution_count": 12,
     "metadata": {},
     "output_type": "execute_result"
    }
   ],
   "source": [
    "type(com)"
   ]
  },
  {
   "cell_type": "code",
   "execution_count": 13,
   "id": "59888f80",
   "metadata": {},
   "outputs": [
    {
     "data": {
      "text/plain": [
       "5"
      ]
     },
     "execution_count": 13,
     "metadata": {},
     "output_type": "execute_result"
    }
   ],
   "source": [
    "num"
   ]
  },
  {
   "cell_type": "code",
   "execution_count": 15,
   "id": "d547381f",
   "metadata": {},
   "outputs": [
    {
     "data": {
      "text/plain": [
       "15"
      ]
     },
     "execution_count": 15,
     "metadata": {},
     "output_type": "execute_result"
    }
   ],
   "source": [
    "#assignment operator\n",
    "\n",
    "num +10"
   ]
  },
  {
   "cell_type": "markdown",
   "id": "c83a9b6a",
   "metadata": {},
   "source": []
  },
  {
   "cell_type": "code",
   "execution_count": 16,
   "id": "03bbe605",
   "metadata": {},
   "outputs": [],
   "source": [
    "num += 10"
   ]
  },
  {
   "cell_type": "code",
   "execution_count": 17,
   "id": "d914f073",
   "metadata": {},
   "outputs": [
    {
     "data": {
      "text/plain": [
       "15"
      ]
     },
     "execution_count": 17,
     "metadata": {},
     "output_type": "execute_result"
    }
   ],
   "source": [
    "num"
   ]
  },
  {
   "cell_type": "code",
   "execution_count": 18,
   "id": "799dc9aa",
   "metadata": {},
   "outputs": [],
   "source": [
    "num *= 2"
   ]
  },
  {
   "cell_type": "code",
   "execution_count": 19,
   "id": "4b8c6cf0",
   "metadata": {},
   "outputs": [
    {
     "data": {
      "text/plain": [
       "30"
      ]
     },
     "execution_count": 19,
     "metadata": {},
     "output_type": "execute_result"
    }
   ],
   "source": [
    "num"
   ]
  },
  {
   "cell_type": "code",
   "execution_count": 20,
   "id": "dfd7b52d",
   "metadata": {},
   "outputs": [],
   "source": [
    "num **= 2"
   ]
  },
  {
   "cell_type": "code",
   "execution_count": 21,
   "id": "03086674",
   "metadata": {},
   "outputs": [
    {
     "data": {
      "text/plain": [
       "900"
      ]
     },
     "execution_count": 21,
     "metadata": {},
     "output_type": "execute_result"
    }
   ],
   "source": [
    "num"
   ]
  },
  {
   "cell_type": "code",
   "execution_count": 22,
   "id": "9a88ffb2",
   "metadata": {},
   "outputs": [
    {
     "data": {
      "text/plain": [
       "2.5"
      ]
     },
     "execution_count": 22,
     "metadata": {},
     "output_type": "execute_result"
    }
   ],
   "source": [
    "5/2"
   ]
  },
  {
   "cell_type": "code",
   "execution_count": 26,
   "id": "71e83b82",
   "metadata": {},
   "outputs": [
    {
     "data": {
      "text/plain": [
       "2.0"
      ]
     },
     "execution_count": 26,
     "metadata": {},
     "output_type": "execute_result"
    }
   ],
   "source": [
    "4/2"
   ]
  },
  {
   "cell_type": "code",
   "execution_count": 24,
   "id": "0870b3ca",
   "metadata": {},
   "outputs": [
    {
     "data": {
      "text/plain": [
       "2"
      ]
     },
     "execution_count": 24,
     "metadata": {},
     "output_type": "execute_result"
    }
   ],
   "source": [
    "5//2"
   ]
  },
  {
   "cell_type": "code",
   "execution_count": 27,
   "id": "1c1f1f24",
   "metadata": {},
   "outputs": [
    {
     "data": {
      "text/plain": [
       "2"
      ]
     },
     "execution_count": 27,
     "metadata": {},
     "output_type": "execute_result"
    }
   ],
   "source": [
    "4//2"
   ]
  },
  {
   "cell_type": "markdown",
   "id": "b33b6b78",
   "metadata": {},
   "source": []
  },
  {
   "cell_type": "code",
   "execution_count": 28,
   "id": "cbce27e1",
   "metadata": {},
   "outputs": [
    {
     "data": {
      "text/plain": [
       "2.0"
      ]
     },
     "execution_count": 28,
     "metadata": {},
     "output_type": "execute_result"
    }
   ],
   "source": [
    "5.0//2"
   ]
  },
  {
   "cell_type": "code",
   "execution_count": 29,
   "id": "a125e553",
   "metadata": {},
   "outputs": [
    {
     "data": {
      "text/plain": [
       "1"
      ]
     },
     "execution_count": 29,
     "metadata": {},
     "output_type": "execute_result"
    }
   ],
   "source": [
    "5%2"
   ]
  },
  {
   "cell_type": "code",
   "execution_count": 30,
   "id": "32e66bda",
   "metadata": {},
   "outputs": [
    {
     "data": {
      "text/plain": [
       "True"
      ]
     },
     "execution_count": 30,
     "metadata": {},
     "output_type": "execute_result"
    }
   ],
   "source": [
    "#comparision\n",
    "\n",
    "5==5"
   ]
  },
  {
   "cell_type": "code",
   "execution_count": 31,
   "id": "d9b57215",
   "metadata": {},
   "outputs": [
    {
     "data": {
      "text/plain": [
       "False"
      ]
     },
     "execution_count": 31,
     "metadata": {},
     "output_type": "execute_result"
    }
   ],
   "source": [
    "5 == '5'"
   ]
  },
  {
   "cell_type": "code",
   "execution_count": 32,
   "id": "0e2a5215",
   "metadata": {},
   "outputs": [
    {
     "data": {
      "text/plain": [
       "False"
      ]
     },
     "execution_count": 32,
     "metadata": {},
     "output_type": "execute_result"
    }
   ],
   "source": [
    "5 != 5"
   ]
  },
  {
   "cell_type": "code",
   "execution_count": 33,
   "id": "055d0f4f",
   "metadata": {},
   "outputs": [
    {
     "data": {
      "text/plain": [
       "False"
      ]
     },
     "execution_count": 33,
     "metadata": {},
     "output_type": "execute_result"
    }
   ],
   "source": [
    "5 > 5"
   ]
  },
  {
   "cell_type": "code",
   "execution_count": 34,
   "id": "7b6d1e61",
   "metadata": {},
   "outputs": [
    {
     "data": {
      "text/plain": [
       "True"
      ]
     },
     "execution_count": 34,
     "metadata": {},
     "output_type": "execute_result"
    }
   ],
   "source": [
    "5 >= 5"
   ]
  },
  {
   "cell_type": "code",
   "execution_count": 35,
   "id": "3193c715",
   "metadata": {},
   "outputs": [
    {
     "data": {
      "text/plain": [
       "True"
      ]
     },
     "execution_count": 35,
     "metadata": {},
     "output_type": "execute_result"
    }
   ],
   "source": [
    "5 <= 5.1"
   ]
  },
  {
   "cell_type": "code",
   "execution_count": 36,
   "id": "3dcd81b0",
   "metadata": {},
   "outputs": [
    {
     "data": {
      "text/plain": [
       "True"
      ]
     },
     "execution_count": 36,
     "metadata": {},
     "output_type": "execute_result"
    }
   ],
   "source": [
    "#membership\n",
    "\n",
    "'h' in 'hello'"
   ]
  },
  {
   "cell_type": "code",
   "execution_count": 37,
   "id": "8ff585f2",
   "metadata": {},
   "outputs": [
    {
     "data": {
      "text/plain": [
       "False"
      ]
     },
     "execution_count": 37,
     "metadata": {},
     "output_type": "execute_result"
    }
   ],
   "source": [
    "'H' in 'hello123'"
   ]
  },
  {
   "cell_type": "code",
   "execution_count": 38,
   "id": "4bcf0e01",
   "metadata": {},
   "outputs": [
    {
     "data": {
      "text/plain": [
       "True"
      ]
     },
     "execution_count": 38,
     "metadata": {},
     "output_type": "execute_result"
    }
   ],
   "source": [
    "'1' in'Hello123'"
   ]
  },
  {
   "cell_type": "code",
   "execution_count": 39,
   "id": "73d82b6c",
   "metadata": {},
   "outputs": [
    {
     "ename": "TypeError",
     "evalue": "'in <string>' requires string as left operand, not int",
     "output_type": "error",
     "traceback": [
      "\u001b[1;31m---------------------------------------------------------------------------\u001b[0m",
      "\u001b[1;31mTypeError\u001b[0m                                 Traceback (most recent call last)",
      "Cell \u001b[1;32mIn[39], line 1\u001b[0m\n\u001b[1;32m----> 1\u001b[0m \u001b[38;5;241;43m1\u001b[39;49m\u001b[43m \u001b[49m\u001b[38;5;129;43;01min\u001b[39;49;00m\u001b[43m \u001b[49m\u001b[38;5;124;43m'\u001b[39;49m\u001b[38;5;124;43mHello123\u001b[39;49m\u001b[38;5;124;43m'\u001b[39;49m\n",
      "\u001b[1;31mTypeError\u001b[0m: 'in <string>' requires string as left operand, not int"
     ]
    }
   ],
   "source": [
    "1 in 'Hello123'"
   ]
  },
  {
   "cell_type": "code",
   "execution_count": 40,
   "id": "805596e6",
   "metadata": {},
   "outputs": [
    {
     "data": {
      "text/plain": [
       "False"
      ]
     },
     "execution_count": 40,
     "metadata": {},
     "output_type": "execute_result"
    }
   ],
   "source": [
    "'h' not in 'hello'"
   ]
  },
  {
   "cell_type": "code",
   "execution_count": 41,
   "id": "3a5be77f",
   "metadata": {},
   "outputs": [
    {
     "data": {
      "text/plain": [
       "True"
      ]
     },
     "execution_count": 41,
     "metadata": {},
     "output_type": "execute_result"
    }
   ],
   "source": [
    "# logical not + membership in\n",
    "\n",
    "not 'H' in 'hello'\n"
   ]
  },
  {
   "cell_type": "code",
   "execution_count": 42,
   "id": "755e333c",
   "metadata": {},
   "outputs": [
    {
     "data": {
      "text/plain": [
       "False"
      ]
     },
     "execution_count": 42,
     "metadata": {},
     "output_type": "execute_result"
    }
   ],
   "source": [
    "not 'h' in 'hello'"
   ]
  },
  {
   "cell_type": "code",
   "execution_count": 43,
   "id": "ca5a4932",
   "metadata": {},
   "outputs": [
    {
     "data": {
      "text/plain": [
       "True"
      ]
     },
     "execution_count": 43,
     "metadata": {},
     "output_type": "execute_result"
    }
   ],
   "source": [
    "#logical\n",
    "\n",
    "'H' in 'Hello' and 'o' in 'Hello'"
   ]
  },
  {
   "cell_type": "code",
   "execution_count": 44,
   "id": "c52fba4e",
   "metadata": {},
   "outputs": [
    {
     "data": {
      "text/plain": [
       "False"
      ]
     },
     "execution_count": 44,
     "metadata": {},
     "output_type": "execute_result"
    }
   ],
   "source": [
    "'H' in 'Hello' and 'O' in 'Hello'"
   ]
  },
  {
   "cell_type": "code",
   "execution_count": 45,
   "id": "5e215fd5",
   "metadata": {},
   "outputs": [
    {
     "name": "stderr",
     "output_type": "stream",
     "text": [
      "<>:3: SyntaxWarning: \"is\" with a literal. Did you mean \"==\"?\n",
      "<>:3: SyntaxWarning: \"is\" with a literal. Did you mean \"==\"?\n",
      "C:\\Users\\shree\\AppData\\Local\\Temp\\ipykernel_3456\\3474037623.py:3: SyntaxWarning: \"is\" with a literal. Did you mean \"==\"?\n",
      "  5 is 5\n"
     ]
    },
    {
     "data": {
      "text/plain": [
       "True"
      ]
     },
     "execution_count": 45,
     "metadata": {},
     "output_type": "execute_result"
    }
   ],
   "source": [
    "# identity\n",
    "\n",
    "5 is 5"
   ]
  },
  {
   "cell_type": "code",
   "execution_count": 46,
   "id": "d31972a5",
   "metadata": {},
   "outputs": [
    {
     "name": "stderr",
     "output_type": "stream",
     "text": [
      "<>:1: SyntaxWarning: \"is not\" with a literal. Did you mean \"!=\"?\n",
      "<>:1: SyntaxWarning: \"is not\" with a literal. Did you mean \"!=\"?\n",
      "C:\\Users\\shree\\AppData\\Local\\Temp\\ipykernel_3456\\4030840143.py:1: SyntaxWarning: \"is not\" with a literal. Did you mean \"!=\"?\n",
      "  5 is not 5\n"
     ]
    },
    {
     "data": {
      "text/plain": [
       "False"
      ]
     },
     "execution_count": 46,
     "metadata": {},
     "output_type": "execute_result"
    }
   ],
   "source": [
    "5 is not 5"
   ]
  },
  {
   "cell_type": "code",
   "execution_count": 47,
   "id": "b92a6ac3",
   "metadata": {},
   "outputs": [],
   "source": [
    "#srting\n",
    "\n",
    "name= 'prarthana'"
   ]
  },
  {
   "cell_type": "code",
   "execution_count": 48,
   "id": "b0d6ea44",
   "metadata": {},
   "outputs": [
    {
     "data": {
      "text/plain": [
       "'prarthana'"
      ]
     },
     "execution_count": 48,
     "metadata": {},
     "output_type": "execute_result"
    }
   ],
   "source": [
    "name"
   ]
  },
  {
   "cell_type": "code",
   "execution_count": 50,
   "id": "aa5a7406",
   "metadata": {},
   "outputs": [],
   "source": [
    "name ='PRARTHANA'"
   ]
  },
  {
   "cell_type": "markdown",
   "id": "0c455bfb",
   "metadata": {},
   "source": []
  },
  {
   "cell_type": "code",
   "execution_count": 51,
   "id": "599aad83",
   "metadata": {},
   "outputs": [
    {
     "data": {
      "text/plain": [
       "'PRARTHANA'"
      ]
     },
     "execution_count": 51,
     "metadata": {},
     "output_type": "execute_result"
    }
   ],
   "source": [
    "name"
   ]
  },
  {
   "cell_type": "code",
   "execution_count": 52,
   "id": "b1eab4f7",
   "metadata": {},
   "outputs": [
    {
     "ename": "SyntaxError",
     "evalue": "unterminated string literal (detected at line 1) (705036984.py, line 1)",
     "output_type": "error",
     "traceback": [
      "\u001b[1;36m  Cell \u001b[1;32mIn[52], line 1\u001b[1;36m\u001b[0m\n\u001b[1;33m    address = \"prahladnagar,\u001b[0m\n\u001b[1;37m              ^\u001b[0m\n\u001b[1;31mSyntaxError\u001b[0m\u001b[1;31m:\u001b[0m unterminated string literal (detected at line 1)\n"
     ]
    }
   ],
   "source": [
    "address = \"prahladnagar,\n",
    "ahmedabad\""
   ]
  },
  {
   "cell_type": "code",
   "execution_count": 53,
   "id": "529bd093",
   "metadata": {},
   "outputs": [],
   "source": [
    "address = '''prahlad nagar,\n",
    "ahmedabad,\n",
    "Gujarat, India'''"
   ]
  },
  {
   "cell_type": "code",
   "execution_count": 54,
   "id": "934f9863",
   "metadata": {},
   "outputs": [
    {
     "data": {
      "text/plain": [
       "'prahlad nagar,\\nahmedabad,\\nGujarat, India'"
      ]
     },
     "execution_count": 54,
     "metadata": {},
     "output_type": "execute_result"
    }
   ],
   "source": [
    "address"
   ]
  },
  {
   "cell_type": "code",
   "execution_count": 55,
   "id": "5d131f5f",
   "metadata": {},
   "outputs": [
    {
     "name": "stdout",
     "output_type": "stream",
     "text": [
      "prahlad nagar,\n",
      "ahmedabad,\n",
      "Gujarat, India\n"
     ]
    }
   ],
   "source": [
    "print(address)"
   ]
  },
  {
   "cell_type": "code",
   "execution_count": 57,
   "id": "4be9a0d2",
   "metadata": {},
   "outputs": [],
   "source": [
    "#string methods\n",
    "\n",
    "#capitalized\n",
    "\n",
    "name ='prarthana' "
   ]
  },
  {
   "cell_type": "code",
   "execution_count": 58,
   "id": "ae911f60",
   "metadata": {},
   "outputs": [
    {
     "data": {
      "text/plain": [
       "'prarthana'"
      ]
     },
     "execution_count": 58,
     "metadata": {},
     "output_type": "execute_result"
    }
   ],
   "source": [
    "name "
   ]
  },
  {
   "cell_type": "code",
   "execution_count": 59,
   "id": "d652db48",
   "metadata": {},
   "outputs": [
    {
     "data": {
      "text/plain": [
       "'Prarthana'"
      ]
     },
     "execution_count": 59,
     "metadata": {},
     "output_type": "execute_result"
    }
   ],
   "source": [
    "name.capitalize()"
   ]
  },
  {
   "cell_type": "code",
   "execution_count": 60,
   "id": "01338bd9",
   "metadata": {},
   "outputs": [
    {
     "data": {
      "text/plain": [
       "'Prahlad nagar,\\nahmedabad,\\ngujarat, india'"
      ]
     },
     "execution_count": 60,
     "metadata": {},
     "output_type": "execute_result"
    }
   ],
   "source": [
    "address.capitalize()"
   ]
  },
  {
   "cell_type": "code",
   "execution_count": 61,
   "id": "8550a491",
   "metadata": {},
   "outputs": [
    {
     "data": {
      "text/plain": [
       "'prarthana'"
      ]
     },
     "execution_count": 61,
     "metadata": {},
     "output_type": "execute_result"
    }
   ],
   "source": [
    "name"
   ]
  },
  {
   "cell_type": "code",
   "execution_count": 62,
   "id": "06d2b652",
   "metadata": {},
   "outputs": [
    {
     "data": {
      "text/plain": [
       "'PRARTHANA'"
      ]
     },
     "execution_count": 62,
     "metadata": {},
     "output_type": "execute_result"
    }
   ],
   "source": [
    "name.upper()"
   ]
  },
  {
   "cell_type": "code",
   "execution_count": 63,
   "id": "b7f3c752",
   "metadata": {},
   "outputs": [
    {
     "data": {
      "text/plain": [
       "'PRAHLAD NAGAR,\\nAHMEDABAD,\\nGUJARAT, INDIA'"
      ]
     },
     "execution_count": 63,
     "metadata": {},
     "output_type": "execute_result"
    }
   ],
   "source": [
    "address.upper()"
   ]
  },
  {
   "cell_type": "code",
   "execution_count": 64,
   "id": "d7ee0147",
   "metadata": {},
   "outputs": [],
   "source": [
    "name= name.upper() #assigned"
   ]
  },
  {
   "cell_type": "code",
   "execution_count": 65,
   "id": "0a16ca4a",
   "metadata": {},
   "outputs": [
    {
     "data": {
      "text/plain": [
       "'PRARTHANA'"
      ]
     },
     "execution_count": 65,
     "metadata": {},
     "output_type": "execute_result"
    }
   ],
   "source": [
    "name"
   ]
  },
  {
   "cell_type": "code",
   "execution_count": 66,
   "id": "5b651ea6",
   "metadata": {},
   "outputs": [
    {
     "data": {
      "text/plain": [
       "True"
      ]
     },
     "execution_count": 66,
     "metadata": {},
     "output_type": "execute_result"
    }
   ],
   "source": [
    "name.isupper()"
   ]
  },
  {
   "cell_type": "code",
   "execution_count": 67,
   "id": "7c37c391",
   "metadata": {},
   "outputs": [
    {
     "data": {
      "text/plain": [
       "False"
      ]
     },
     "execution_count": 67,
     "metadata": {},
     "output_type": "execute_result"
    }
   ],
   "source": [
    "address.isupper()"
   ]
  },
  {
   "cell_type": "code",
   "execution_count": 68,
   "id": "11a3e629",
   "metadata": {},
   "outputs": [
    {
     "data": {
      "text/plain": [
       "False"
      ]
     },
     "execution_count": 68,
     "metadata": {},
     "output_type": "execute_result"
    }
   ],
   "source": [
    "name.islower()"
   ]
  },
  {
   "cell_type": "code",
   "execution_count": 69,
   "id": "fb75b63d",
   "metadata": {},
   "outputs": [
    {
     "data": {
      "text/plain": [
       "False"
      ]
     },
     "execution_count": 69,
     "metadata": {},
     "output_type": "execute_result"
    }
   ],
   "source": [
    "address.islower()"
   ]
  },
  {
   "cell_type": "code",
   "execution_count": 70,
   "id": "1b705548",
   "metadata": {},
   "outputs": [
    {
     "data": {
      "text/plain": [
       "'prarthana'"
      ]
     },
     "execution_count": 70,
     "metadata": {},
     "output_type": "execute_result"
    }
   ],
   "source": [
    "name.lower()"
   ]
  },
  {
   "cell_type": "code",
   "execution_count": 71,
   "id": "c336e72e",
   "metadata": {},
   "outputs": [
    {
     "data": {
      "text/plain": [
       "'prahlad nagar,\\nahmedabad,\\ngujarat, india'"
      ]
     },
     "execution_count": 71,
     "metadata": {},
     "output_type": "execute_result"
    }
   ],
   "source": [
    "address.lower()"
   ]
  },
  {
   "cell_type": "code",
   "execution_count": 72,
   "id": "6f16a6d0",
   "metadata": {},
   "outputs": [
    {
     "data": {
      "text/plain": [
       "'prarthana'"
      ]
     },
     "execution_count": 72,
     "metadata": {},
     "output_type": "execute_result"
    }
   ],
   "source": [
    "name.casefold()"
   ]
  },
  {
   "cell_type": "code",
   "execution_count": 73,
   "id": "77595177",
   "metadata": {},
   "outputs": [
    {
     "data": {
      "text/plain": [
       "'prahlad nagar,\\nahmedabad,\\ngujarat, india'"
      ]
     },
     "execution_count": 73,
     "metadata": {},
     "output_type": "execute_result"
    }
   ],
   "source": [
    "address.casefold()"
   ]
  },
  {
   "cell_type": "code",
   "execution_count": 74,
   "id": "4e310f34",
   "metadata": {},
   "outputs": [
    {
     "data": {
      "text/plain": [
       "'PRARTHANA'"
      ]
     },
     "execution_count": 74,
     "metadata": {},
     "output_type": "execute_result"
    }
   ],
   "source": [
    "name"
   ]
  },
  {
   "cell_type": "code",
   "execution_count": 75,
   "id": "fd7dab93",
   "metadata": {},
   "outputs": [
    {
     "data": {
      "text/plain": [
       "'prahlad nagar,\\nahmedabad,\\nGujarat, India'"
      ]
     },
     "execution_count": 75,
     "metadata": {},
     "output_type": "execute_result"
    }
   ],
   "source": [
    "address"
   ]
  },
  {
   "cell_type": "code",
   "execution_count": 76,
   "id": "c1e73014",
   "metadata": {},
   "outputs": [
    {
     "data": {
      "text/plain": [
       "False"
      ]
     },
     "execution_count": 76,
     "metadata": {},
     "output_type": "execute_result"
    }
   ],
   "source": [
    "name.islower()"
   ]
  },
  {
   "cell_type": "code",
   "execution_count": 77,
   "id": "815b200a",
   "metadata": {},
   "outputs": [
    {
     "data": {
      "text/plain": [
       "False"
      ]
     },
     "execution_count": 77,
     "metadata": {},
     "output_type": "execute_result"
    }
   ],
   "source": [
    "address.islower()"
   ]
  },
  {
   "cell_type": "code",
   "execution_count": 78,
   "id": "f5456d26",
   "metadata": {},
   "outputs": [
    {
     "data": {
      "text/plain": [
       "'Prarthana'"
      ]
     },
     "execution_count": 78,
     "metadata": {},
     "output_type": "execute_result"
    }
   ],
   "source": [
    "name.title()"
   ]
  },
  {
   "cell_type": "code",
   "execution_count": 79,
   "id": "be59e16b",
   "metadata": {},
   "outputs": [
    {
     "data": {
      "text/plain": [
       "'Prahlad Nagar,\\nAhmedabad,\\nGujarat, India'"
      ]
     },
     "execution_count": 79,
     "metadata": {},
     "output_type": "execute_result"
    }
   ],
   "source": [
    "address.title()"
   ]
  },
  {
   "cell_type": "code",
   "execution_count": 80,
   "id": "d9918f10",
   "metadata": {},
   "outputs": [
    {
     "data": {
      "text/plain": [
       "'Prahlad nagar,\\nahmedabad,\\ngujarat, india'"
      ]
     },
     "execution_count": 80,
     "metadata": {},
     "output_type": "execute_result"
    }
   ],
   "source": [
    "address.capitalize()"
   ]
  },
  {
   "cell_type": "code",
   "execution_count": 81,
   "id": "e5c9b303",
   "metadata": {},
   "outputs": [
    {
     "data": {
      "text/plain": [
       "0"
      ]
     },
     "execution_count": 81,
     "metadata": {},
     "output_type": "execute_result"
    }
   ],
   "source": [
    "# count(char/word) - returns occurrance of given char/word\n",
    "\n",
    "name.count('a')"
   ]
  },
  {
   "cell_type": "code",
   "execution_count": 82,
   "id": "46bfeb21",
   "metadata": {},
   "outputs": [
    {
     "data": {
      "text/plain": [
       "3"
      ]
     },
     "execution_count": 82,
     "metadata": {},
     "output_type": "execute_result"
    }
   ],
   "source": [
    "name.count('A')"
   ]
  },
  {
   "cell_type": "code",
   "execution_count": 83,
   "id": "06807426",
   "metadata": {},
   "outputs": [
    {
     "data": {
      "text/plain": [
       "2"
      ]
     },
     "execution_count": 83,
     "metadata": {},
     "output_type": "execute_result"
    }
   ],
   "source": [
    "address.count('ad')"
   ]
  },
  {
   "cell_type": "code",
   "execution_count": 84,
   "id": "4c88e36f",
   "metadata": {},
   "outputs": [
    {
     "data": {
      "text/plain": [
       "9"
      ]
     },
     "execution_count": 84,
     "metadata": {},
     "output_type": "execute_result"
    }
   ],
   "source": [
    "len(name)"
   ]
  },
  {
   "cell_type": "code",
   "execution_count": 85,
   "id": "990cb38d",
   "metadata": {},
   "outputs": [
    {
     "data": {
      "text/plain": [
       "40"
      ]
     },
     "execution_count": 85,
     "metadata": {},
     "output_type": "execute_result"
    }
   ],
   "source": [
    "len(address)"
   ]
  },
  {
   "cell_type": "code",
   "execution_count": 89,
   "id": "e9314e0c",
   "metadata": {},
   "outputs": [],
   "source": [
    "num= '12345'"
   ]
  },
  {
   "cell_type": "code",
   "execution_count": 90,
   "id": "64c24002",
   "metadata": {},
   "outputs": [
    {
     "data": {
      "text/plain": [
       "'12345'"
      ]
     },
     "execution_count": 90,
     "metadata": {},
     "output_type": "execute_result"
    }
   ],
   "source": [
    "num"
   ]
  },
  {
   "cell_type": "code",
   "execution_count": 91,
   "id": "72cf40ac",
   "metadata": {},
   "outputs": [
    {
     "data": {
      "text/plain": [
       "5"
      ]
     },
     "execution_count": 91,
     "metadata": {},
     "output_type": "execute_result"
    }
   ],
   "source": [
    "len(num)"
   ]
  },
  {
   "cell_type": "code",
   "execution_count": 92,
   "id": "a26c8d7d",
   "metadata": {},
   "outputs": [
    {
     "data": {
      "text/plain": [
       "'     PRARTHANA      '"
      ]
     },
     "execution_count": 92,
     "metadata": {},
     "output_type": "execute_result"
    }
   ],
   "source": [
    "# center(int, fillchar=\" \")\n",
    "\n",
    "name.center(20)"
   ]
  },
  {
   "cell_type": "code",
   "execution_count": 93,
   "id": "d4f8da4b",
   "metadata": {},
   "outputs": [
    {
     "data": {
      "text/plain": [
       "'*****PRARTHANA******'"
      ]
     },
     "execution_count": 93,
     "metadata": {},
     "output_type": "execute_result"
    }
   ],
   "source": [
    "name.center(20,\"*\")"
   ]
  },
  {
   "cell_type": "code",
   "execution_count": 94,
   "id": "8f0be065",
   "metadata": {},
   "outputs": [
    {
     "data": {
      "text/plain": [
       "'PRARTHANA           '"
      ]
     },
     "execution_count": 94,
     "metadata": {},
     "output_type": "execute_result"
    }
   ],
   "source": [
    "# ljust(int, fillchar=\" \") - justify the string to left\n",
    "\n",
    "name.ljust(20)"
   ]
  },
  {
   "cell_type": "code",
   "execution_count": 95,
   "id": "3da6fda1",
   "metadata": {},
   "outputs": [
    {
     "data": {
      "text/plain": [
       "'PRARTHANA***********'"
      ]
     },
     "execution_count": 95,
     "metadata": {},
     "output_type": "execute_result"
    }
   ],
   "source": [
    "name.ljust(20,'*')"
   ]
  },
  {
   "cell_type": "code",
   "execution_count": 96,
   "id": "6d602496",
   "metadata": {},
   "outputs": [
    {
     "data": {
      "text/plain": [
       "'                                         PRARTHANA'"
      ]
     },
     "execution_count": 96,
     "metadata": {},
     "output_type": "execute_result"
    }
   ],
   "source": [
    "# rjust(int, fillchar=\" \") - right justify\n",
    "\n",
    "name.rjust(50)"
   ]
  },
  {
   "cell_type": "code",
   "execution_count": 97,
   "id": "33af4186",
   "metadata": {},
   "outputs": [
    {
     "data": {
      "text/plain": [
       "'$$$$$$$$$$$$$$$$$$$$$$$$$$$$$$$$$$$$$$$$$PRARTHANA'"
      ]
     },
     "execution_count": 97,
     "metadata": {},
     "output_type": "execute_result"
    }
   ],
   "source": [
    "name.rjust(50,'$')"
   ]
  },
  {
   "cell_type": "code",
   "execution_count": 101,
   "id": "801f76f0",
   "metadata": {},
   "outputs": [
    {
     "data": {
      "text/plain": [
       "False"
      ]
     },
     "execution_count": 101,
     "metadata": {},
     "output_type": "execute_result"
    }
   ],
   "source": [
    "# startwith(char/word) - returns True if string starts with given char/word\n",
    "\n",
    "name.startswith('a')"
   ]
  },
  {
   "cell_type": "markdown",
   "id": "fe8b0183",
   "metadata": {},
   "source": []
  },
  {
   "cell_type": "code",
   "execution_count": 102,
   "id": "e822ff26",
   "metadata": {},
   "outputs": [
    {
     "data": {
      "text/plain": [
       "False"
      ]
     },
     "execution_count": 102,
     "metadata": {},
     "output_type": "execute_result"
    }
   ],
   "source": [
    "name.startswith('p')"
   ]
  },
  {
   "cell_type": "code",
   "execution_count": 103,
   "id": "dc520a89",
   "metadata": {},
   "outputs": [
    {
     "data": {
      "text/plain": [
       "True"
      ]
     },
     "execution_count": 103,
     "metadata": {},
     "output_type": "execute_result"
    }
   ],
   "source": [
    "name.startswith('P')"
   ]
  },
  {
   "cell_type": "code",
   "execution_count": 104,
   "id": "1115e866",
   "metadata": {},
   "outputs": [
    {
     "data": {
      "text/plain": [
       "True"
      ]
     },
     "execution_count": 104,
     "metadata": {},
     "output_type": "execute_result"
    }
   ],
   "source": [
    "# endswith(char/word) - returns True if string ends with given char/word\n",
    "\n",
    "name.endswith('A')"
   ]
  },
  {
   "cell_type": "code",
   "execution_count": 105,
   "id": "1ab5fd23",
   "metadata": {},
   "outputs": [
    {
     "data": {
      "text/plain": [
       "False"
      ]
     },
     "execution_count": 105,
     "metadata": {},
     "output_type": "execute_result"
    }
   ],
   "source": [
    "address.endswith('Q')"
   ]
  },
  {
   "cell_type": "code",
   "execution_count": 106,
   "id": "29fc7776",
   "metadata": {},
   "outputs": [],
   "source": [
    "#indexing concepts\n",
    "\n",
    "st = 'hello! welcome to logic rays academy.'"
   ]
  },
  {
   "cell_type": "code",
   "execution_count": 107,
   "id": "459dec96",
   "metadata": {},
   "outputs": [
    {
     "data": {
      "text/plain": [
       "37"
      ]
     },
     "execution_count": 107,
     "metadata": {},
     "output_type": "execute_result"
    }
   ],
   "source": [
    "len(st)"
   ]
  },
  {
   "cell_type": "code",
   "execution_count": 108,
   "id": "35b7709b",
   "metadata": {},
   "outputs": [
    {
     "data": {
      "text/plain": [
       "'o'"
      ]
     },
     "execution_count": 108,
     "metadata": {},
     "output_type": "execute_result"
    }
   ],
   "source": [
    "# positive indexing\n",
    "# sequencial_object[index_num]\n",
    "\n",
    "st[4]"
   ]
  },
  {
   "cell_type": "code",
   "execution_count": 109,
   "id": "826b324d",
   "metadata": {},
   "outputs": [
    {
     "ename": "IndexError",
     "evalue": "string index out of range",
     "output_type": "error",
     "traceback": [
      "\u001b[1;31m---------------------------------------------------------------------------\u001b[0m",
      "\u001b[1;31mIndexError\u001b[0m                                Traceback (most recent call last)",
      "Cell \u001b[1;32mIn[109], line 1\u001b[0m\n\u001b[1;32m----> 1\u001b[0m \u001b[43mst\u001b[49m\u001b[43m[\u001b[49m\u001b[38;5;241;43m39\u001b[39;49m\u001b[43m]\u001b[49m\n",
      "\u001b[1;31mIndexError\u001b[0m: string index out of range"
     ]
    }
   ],
   "source": [
    "st[39]"
   ]
  },
  {
   "cell_type": "code",
   "execution_count": 110,
   "id": "8fed337d",
   "metadata": {},
   "outputs": [
    {
     "data": {
      "text/plain": [
       "'.'"
      ]
     },
     "execution_count": 110,
     "metadata": {},
     "output_type": "execute_result"
    }
   ],
   "source": [
    "# negative indixing\n",
    "\n",
    "st[-1]"
   ]
  },
  {
   "cell_type": "code",
   "execution_count": 111,
   "id": "b8a4dcbd",
   "metadata": {},
   "outputs": [
    {
     "data": {
      "text/plain": [
       "'d'"
      ]
     },
     "execution_count": 111,
     "metadata": {},
     "output_type": "execute_result"
    }
   ],
   "source": [
    "st[-5]"
   ]
  },
  {
   "cell_type": "code",
   "execution_count": 113,
   "id": "8d93813c",
   "metadata": {},
   "outputs": [
    {
     "data": {
      "text/plain": [
       "25"
      ]
     },
     "execution_count": 113,
     "metadata": {},
     "output_type": "execute_result"
    }
   ],
   "source": [
    "# find(char/word) - returns an index number if given char/word is exists withing the range else returns -1\n",
    "\n",
    "st.find('a')"
   ]
  },
  {
   "cell_type": "code",
   "execution_count": 116,
   "id": "849cc265",
   "metadata": {},
   "outputs": [
    {
     "data": {
      "text/plain": [
       "-1"
      ]
     },
     "execution_count": 116,
     "metadata": {},
     "output_type": "execute_result"
    }
   ],
   "source": [
    "st.find('z')"
   ]
  },
  {
   "cell_type": "code",
   "execution_count": 117,
   "id": "fb1828d6",
   "metadata": {},
   "outputs": [
    {
     "data": {
      "text/plain": [
       "31"
      ]
     },
     "execution_count": 117,
     "metadata": {},
     "output_type": "execute_result"
    }
   ],
   "source": [
    "# rfind(char/word) - returns an index number from right side if given char/word is exists withing the range else returns -1\n",
    "\n",
    "st.rfind('a')"
   ]
  },
  {
   "cell_type": "code",
   "execution_count": 118,
   "id": "68596a71",
   "metadata": {},
   "outputs": [
    {
     "data": {
      "text/plain": [
       "25"
      ]
     },
     "execution_count": 118,
     "metadata": {},
     "output_type": "execute_result"
    }
   ],
   "source": [
    "# index(char/word) - returns an index number if given char/word is exists withing the range else raised an error called ValueError\n",
    "\n",
    "st.index('a')"
   ]
  },
  {
   "cell_type": "code",
   "execution_count": 119,
   "id": "ad05b156",
   "metadata": {},
   "outputs": [
    {
     "ename": "ValueError",
     "evalue": "substring not found",
     "output_type": "error",
     "traceback": [
      "\u001b[1;31m---------------------------------------------------------------------------\u001b[0m",
      "\u001b[1;31mValueError\u001b[0m                                Traceback (most recent call last)",
      "Cell \u001b[1;32mIn[119], line 1\u001b[0m\n\u001b[1;32m----> 1\u001b[0m \u001b[43mst\u001b[49m\u001b[38;5;241;43m.\u001b[39;49m\u001b[43mindex\u001b[49m\u001b[43m(\u001b[49m\u001b[38;5;124;43m'\u001b[39;49m\u001b[38;5;124;43mz\u001b[39;49m\u001b[38;5;124;43m'\u001b[39;49m\u001b[43m)\u001b[49m\n",
      "\u001b[1;31mValueError\u001b[0m: substring not found"
     ]
    }
   ],
   "source": [
    "st.index('z')"
   ]
  },
  {
   "cell_type": "code",
   "execution_count": 120,
   "id": "b6729d51",
   "metadata": {},
   "outputs": [
    {
     "data": {
      "text/plain": [
       "False"
      ]
     },
     "execution_count": 120,
     "metadata": {},
     "output_type": "execute_result"
    }
   ],
   "source": [
    "# isalpha() - returns True if entire string is alphabatic only\n",
    "\n",
    "st.isalpha()"
   ]
  },
  {
   "cell_type": "code",
   "execution_count": 122,
   "id": "99270318",
   "metadata": {},
   "outputs": [],
   "source": [
    "st1= '123ABC'"
   ]
  },
  {
   "cell_type": "code",
   "execution_count": 123,
   "id": "ea158192",
   "metadata": {},
   "outputs": [
    {
     "data": {
      "text/plain": [
       "False"
      ]
     },
     "execution_count": 123,
     "metadata": {},
     "output_type": "execute_result"
    }
   ],
   "source": [
    "st1.isalpha()"
   ]
  },
  {
   "cell_type": "code",
   "execution_count": 124,
   "id": "8ed0d5b4",
   "metadata": {},
   "outputs": [],
   "source": [
    "st2= 'ABCD'"
   ]
  },
  {
   "cell_type": "code",
   "execution_count": 125,
   "id": "53dbc849",
   "metadata": {},
   "outputs": [
    {
     "data": {
      "text/plain": [
       "True"
      ]
     },
     "execution_count": 125,
     "metadata": {},
     "output_type": "execute_result"
    }
   ],
   "source": [
    "st2.isalpha()"
   ]
  },
  {
   "cell_type": "code",
   "execution_count": 126,
   "id": "3822d8ff",
   "metadata": {},
   "outputs": [
    {
     "data": {
      "text/plain": [
       "True"
      ]
     },
     "execution_count": 126,
     "metadata": {},
     "output_type": "execute_result"
    }
   ],
   "source": [
    "# isnumeric() - returns True if entire string is numerical only\n",
    "\n",
    "'123'.isnumeric()"
   ]
  },
  {
   "cell_type": "code",
   "execution_count": 129,
   "id": "2afe312d",
   "metadata": {},
   "outputs": [
    {
     "data": {
      "text/plain": [
       "False"
      ]
     },
     "execution_count": 129,
     "metadata": {},
     "output_type": "execute_result"
    }
   ],
   "source": [
    "\"2ab\".isnumeric()"
   ]
  },
  {
   "cell_type": "code",
   "execution_count": 130,
   "id": "4fc81622",
   "metadata": {},
   "outputs": [
    {
     "data": {
      "text/plain": [
       "True"
      ]
     },
     "execution_count": 130,
     "metadata": {},
     "output_type": "execute_result"
    }
   ],
   "source": [
    "# isalnum() - returns True if entire string has numbers or alphabates or both only\n",
    "\n",
    "\"123ab12\".isalnum()"
   ]
  },
  {
   "cell_type": "code",
   "execution_count": 131,
   "id": "10d46ce2",
   "metadata": {},
   "outputs": [
    {
     "data": {
      "text/plain": [
       "False"
      ]
     },
     "execution_count": 131,
     "metadata": {},
     "output_type": "execute_result"
    }
   ],
   "source": [
    "\"12@ab\".isalnum()"
   ]
  },
  {
   "cell_type": "code",
   "execution_count": 132,
   "id": "6c482eb0",
   "metadata": {},
   "outputs": [
    {
     "data": {
      "text/plain": [
       "False"
      ]
     },
     "execution_count": 132,
     "metadata": {},
     "output_type": "execute_result"
    }
   ],
   "source": [
    "# isidentifier() - returns True whether string follow the identifier rules\n",
    "\n",
    "\"0123hello\".isidentifier()"
   ]
  },
  {
   "cell_type": "code",
   "execution_count": 133,
   "id": "1fda0bbf",
   "metadata": {},
   "outputs": [
    {
     "data": {
      "text/plain": [
       "True"
      ]
     },
     "execution_count": 133,
     "metadata": {},
     "output_type": "execute_result"
    }
   ],
   "source": [
    "\"hello132\".isidentifier()"
   ]
  },
  {
   "cell_type": "code",
   "execution_count": 135,
   "id": "3b9f67f6",
   "metadata": {},
   "outputs": [
    {
     "data": {
      "text/plain": [
       "False"
      ]
     },
     "execution_count": 135,
     "metadata": {},
     "output_type": "execute_result"
    }
   ],
   "source": [
    "\"abc12@\".isidentifier()"
   ]
  },
  {
   "cell_type": "code",
   "execution_count": 137,
   "id": "3817ce0f",
   "metadata": {},
   "outputs": [
    {
     "data": {
      "text/plain": [
       "True"
      ]
     },
     "execution_count": 137,
     "metadata": {},
     "output_type": "execute_result"
    }
   ],
   "source": [
    "\"abc123\".isidentifier()"
   ]
  },
  {
   "cell_type": "code",
   "execution_count": 138,
   "id": "09f30db2",
   "metadata": {},
   "outputs": [
    {
     "data": {
      "text/plain": [
       "False"
      ]
     },
     "execution_count": 138,
     "metadata": {},
     "output_type": "execute_result"
    }
   ],
   "source": [
    "\" abc123\".isidentifier()"
   ]
  },
  {
   "cell_type": "code",
   "execution_count": 139,
   "id": "233cdaf4",
   "metadata": {},
   "outputs": [
    {
     "data": {
      "text/plain": [
       "True"
      ]
     },
     "execution_count": 139,
     "metadata": {},
     "output_type": "execute_result"
    }
   ],
   "source": [
    "\"name_123\".isidentifier()"
   ]
  },
  {
   "cell_type": "code",
   "execution_count": 140,
   "id": "ac5d7681",
   "metadata": {},
   "outputs": [
    {
     "data": {
      "text/plain": [
       "False"
      ]
     },
     "execution_count": 140,
     "metadata": {},
     "output_type": "execute_result"
    }
   ],
   "source": [
    "\"name.123\".isidentifier()"
   ]
  },
  {
   "cell_type": "code",
   "execution_count": 141,
   "id": "bb6335ca",
   "metadata": {},
   "outputs": [
    {
     "data": {
      "text/plain": [
       "'hello'"
      ]
     },
     "execution_count": 141,
     "metadata": {},
     "output_type": "execute_result"
    }
   ],
   "source": [
    "# strip() - remove white spaces from right and left side of string\n",
    "\n",
    "\"   hello   \".strip()"
   ]
  },
  {
   "cell_type": "code",
   "execution_count": 142,
   "id": "7b37fddc",
   "metadata": {},
   "outputs": [
    {
     "data": {
      "text/plain": [
       "'hello   '"
      ]
     },
     "execution_count": 142,
     "metadata": {},
     "output_type": "execute_result"
    }
   ],
   "source": [
    "\"   hello   \".lstrip()"
   ]
  },
  {
   "cell_type": "code",
   "execution_count": 143,
   "id": "780c10a4",
   "metadata": {},
   "outputs": [
    {
     "data": {
      "text/plain": [
       "'   hello'"
      ]
     },
     "execution_count": 143,
     "metadata": {},
     "output_type": "execute_result"
    }
   ],
   "source": [
    "\"   hello   \".rstrip()"
   ]
  },
  {
   "cell_type": "code",
   "execution_count": 144,
   "id": "d1864562",
   "metadata": {},
   "outputs": [
    {
     "data": {
      "text/plain": [
       "'he  el  o'"
      ]
     },
     "execution_count": 144,
     "metadata": {},
     "output_type": "execute_result"
    }
   ],
   "source": [
    "\"  he  el  o  \".strip()"
   ]
  },
  {
   "cell_type": "code",
   "execution_count": 145,
   "id": "5a7e13ae",
   "metadata": {},
   "outputs": [],
   "source": [
    "# split(sep=\" \", maxsplit=range)\n",
    "\n",
    "st= 'hello! welcome to logic rays academy.'"
   ]
  },
  {
   "cell_type": "code",
   "execution_count": 146,
   "id": "196ee33c",
   "metadata": {},
   "outputs": [
    {
     "data": {
      "text/plain": [
       "'hello! welcome to logic rays academy.'"
      ]
     },
     "execution_count": 146,
     "metadata": {},
     "output_type": "execute_result"
    }
   ],
   "source": [
    "st"
   ]
  },
  {
   "cell_type": "code",
   "execution_count": 147,
   "id": "f80c13dd",
   "metadata": {},
   "outputs": [
    {
     "data": {
      "text/plain": [
       "['hello!', 'welcome', 'to', 'logic', 'rays', 'academy.']"
      ]
     },
     "execution_count": 147,
     "metadata": {},
     "output_type": "execute_result"
    }
   ],
   "source": [
    "st.split()"
   ]
  },
  {
   "cell_type": "code",
   "execution_count": 148,
   "id": "b4fbe493",
   "metadata": {},
   "outputs": [
    {
     "data": {
      "text/plain": [
       "['hello!', 'welcome', 'to logic rays academy.']"
      ]
     },
     "execution_count": 148,
     "metadata": {},
     "output_type": "execute_result"
    }
   ],
   "source": [
    "st.split(maxsplit=2)"
   ]
  },
  {
   "cell_type": "code",
   "execution_count": 149,
   "id": "b16ded76",
   "metadata": {},
   "outputs": [
    {
     "data": {
      "text/plain": [
       "6"
      ]
     },
     "execution_count": 149,
     "metadata": {},
     "output_type": "execute_result"
    }
   ],
   "source": [
    "len(st.split())"
   ]
  },
  {
   "cell_type": "code",
   "execution_count": 150,
   "id": "194f0154",
   "metadata": {},
   "outputs": [
    {
     "data": {
      "text/plain": [
       "5"
      ]
     },
     "execution_count": 150,
     "metadata": {},
     "output_type": "execute_result"
    }
   ],
   "source": [
    "st.count(' ')"
   ]
  },
  {
   "cell_type": "code",
   "execution_count": 151,
   "id": "ab090e55",
   "metadata": {},
   "outputs": [
    {
     "data": {
      "text/plain": [
       "6"
      ]
     },
     "execution_count": 151,
     "metadata": {},
     "output_type": "execute_result"
    }
   ],
   "source": [
    "st.count(' ')+1"
   ]
  },
  {
   "cell_type": "code",
   "execution_count": 152,
   "id": "091971e4",
   "metadata": {},
   "outputs": [
    {
     "data": {
      "text/plain": [
       "'hello! welcome to logic rays academy.'"
      ]
     },
     "execution_count": 152,
     "metadata": {},
     "output_type": "execute_result"
    }
   ],
   "source": [
    "st"
   ]
  },
  {
   "cell_type": "code",
   "execution_count": 154,
   "id": "0e6629e0",
   "metadata": {},
   "outputs": [
    {
     "data": {
      "text/plain": [
       "['he', 'el', 'o']"
      ]
     },
     "execution_count": 154,
     "metadata": {},
     "output_type": "execute_result"
    }
   ],
   "source": [
    "# remove white spaces between string\n",
    "\n",
    "\"  he  el  o\".split()"
   ]
  },
  {
   "cell_type": "code",
   "execution_count": 155,
   "id": "016bce77",
   "metadata": {},
   "outputs": [],
   "source": [
    "s = \"  he  el  o\".split()"
   ]
  },
  {
   "cell_type": "code",
   "execution_count": 156,
   "id": "8fc85ef2",
   "metadata": {},
   "outputs": [
    {
     "data": {
      "text/plain": [
       "['he', 'el', 'o']"
      ]
     },
     "execution_count": 156,
     "metadata": {},
     "output_type": "execute_result"
    }
   ],
   "source": [
    "s"
   ]
  },
  {
   "cell_type": "code",
   "execution_count": 158,
   "id": "a1d0edac",
   "metadata": {},
   "outputs": [
    {
     "name": "stdout",
     "output_type": "stream",
     "text": [
      "he el o\n"
     ]
    }
   ],
   "source": [
    "print(*s) # here * convert list into string"
   ]
  },
  {
   "cell_type": "code",
   "execution_count": 159,
   "id": "fa9b25ee",
   "metadata": {},
   "outputs": [
    {
     "name": "stdout",
     "output_type": "stream",
     "text": [
      "heelo\n"
     ]
    }
   ],
   "source": [
    "# print('hel', 'l', 'o')\n",
    "\n",
    "print(*s, sep=\"\")"
   ]
  },
  {
   "cell_type": "code",
   "execution_count": 160,
   "id": "6b656852",
   "metadata": {},
   "outputs": [
    {
     "data": {
      "text/plain": [
       "['hello!', 'welcome', 'to', 'logic', 'rays', 'academy.']"
      ]
     },
     "execution_count": 160,
     "metadata": {},
     "output_type": "execute_result"
    }
   ],
   "source": [
    "st.split()"
   ]
  },
  {
   "cell_type": "code",
   "execution_count": 162,
   "id": "91bf2c4f",
   "metadata": {},
   "outputs": [
    {
     "data": {
      "text/plain": [
       "['hello!', 'welcome', 'to', 'logic', 'rays', 'academy.']"
      ]
     },
     "execution_count": 162,
     "metadata": {},
     "output_type": "execute_result"
    }
   ],
   "source": [
    "st.rsplit()"
   ]
  },
  {
   "cell_type": "raw",
   "id": "bb268c48",
   "metadata": {},
   "source": []
  },
  {
   "cell_type": "code",
   "execution_count": 163,
   "id": "a33f9d62",
   "metadata": {},
   "outputs": [
    {
     "data": {
      "text/plain": [
       "['hello! welcome to logic', 'rays', 'academy.']"
      ]
     },
     "execution_count": 163,
     "metadata": {},
     "output_type": "execute_result"
    }
   ],
   "source": [
    "st.rsplit(maxsplit=2)"
   ]
  },
  {
   "cell_type": "code",
   "execution_count": 165,
   "id": "dcad8b78",
   "metadata": {},
   "outputs": [
    {
     "data": {
      "text/plain": [
       "'h*e*l*l*o'"
      ]
     },
     "execution_count": 165,
     "metadata": {},
     "output_type": "execute_result"
    }
   ],
   "source": [
    "# join(sequencial_object)\n",
    "\n",
    "'*'.join('hello')"
   ]
  },
  {
   "cell_type": "code",
   "execution_count": 166,
   "id": "81f3430d",
   "metadata": {},
   "outputs": [
    {
     "data": {
      "text/plain": [
       "['he', 'el', 'o']"
      ]
     },
     "execution_count": 166,
     "metadata": {},
     "output_type": "execute_result"
    }
   ],
   "source": [
    "s"
   ]
  },
  {
   "cell_type": "code",
   "execution_count": 167,
   "id": "c806c99c",
   "metadata": {},
   "outputs": [
    {
     "data": {
      "text/plain": [
       "'he$el$o'"
      ]
     },
     "execution_count": 167,
     "metadata": {},
     "output_type": "execute_result"
    }
   ],
   "source": [
    "'$'.join(s)"
   ]
  },
  {
   "cell_type": "code",
   "execution_count": 168,
   "id": "ee1440f1",
   "metadata": {},
   "outputs": [
    {
     "data": {
      "text/plain": [
       "'heelo'"
      ]
     },
     "execution_count": 168,
     "metadata": {},
     "output_type": "execute_result"
    }
   ],
   "source": [
    "''.join(s)"
   ]
  },
  {
   "cell_type": "code",
   "execution_count": 170,
   "id": "af0c20fd",
   "metadata": {},
   "outputs": [
    {
     "name": "stdout",
     "output_type": "stream",
     "text": [
      "enter your name: p a    r    o     \n",
      "paro\n"
     ]
    }
   ],
   "source": [
    "name= input('enter your name: ')\n",
    "\n",
    "name = name.split()\n",
    "\n",
    "name= ''.join(name)\n",
    "\n",
    "print (name)"
   ]
  },
  {
   "cell_type": "code",
   "execution_count": 171,
   "id": "25e9f303",
   "metadata": {},
   "outputs": [
    {
     "name": "stdout",
     "output_type": "stream",
     "text": [
      "enter your name: p a         r            o\n",
      "paro\n"
     ]
    }
   ],
   "source": [
    "name= input('enter your name: ')\n",
    "\n",
    "print(''.join(name.split()))"
   ]
  },
  {
   "cell_type": "code",
   "execution_count": 172,
   "id": "321b00ad",
   "metadata": {},
   "outputs": [
    {
     "data": {
      "text/plain": [
       "'prahlad nagar,\\nahmedabad,\\nGujarat, India'"
      ]
     },
     "execution_count": 172,
     "metadata": {},
     "output_type": "execute_result"
    }
   ],
   "source": [
    "# splitlines()\n",
    "\n",
    "address"
   ]
  },
  {
   "cell_type": "code",
   "execution_count": 173,
   "id": "5f8d3aad",
   "metadata": {},
   "outputs": [
    {
     "data": {
      "text/plain": [
       "['prahlad nagar,', 'ahmedabad,', 'Gujarat, India']"
      ]
     },
     "execution_count": 173,
     "metadata": {},
     "output_type": "execute_result"
    }
   ],
   "source": [
    "address.splitlines()"
   ]
  },
  {
   "cell_type": "code",
   "execution_count": 174,
   "id": "fd2d7855",
   "metadata": {},
   "outputs": [
    {
     "data": {
      "text/plain": [
       "('he', 'l', 'lo! welcome to logic rays academy.')"
      ]
     },
     "execution_count": 174,
     "metadata": {},
     "output_type": "execute_result"
    }
   ],
   "source": [
    "# partition(char/word) - returns a tuple having three items always\n",
    "\n",
    "st.partition('l')"
   ]
  },
  {
   "cell_type": "code",
   "execution_count": 175,
   "id": "01fe319c",
   "metadata": {},
   "outputs": [
    {
     "data": {
      "text/plain": [
       "('', 'h', 'ello! welcome to logic rays academy.')"
      ]
     },
     "execution_count": 175,
     "metadata": {},
     "output_type": "execute_result"
    }
   ],
   "source": [
    "st.partition('h')"
   ]
  },
  {
   "cell_type": "code",
   "execution_count": 176,
   "id": "38916e79",
   "metadata": {},
   "outputs": [
    {
     "data": {
      "text/plain": [
       "('', 'he', 'llo! welcome to logic rays academy.')"
      ]
     },
     "execution_count": 176,
     "metadata": {},
     "output_type": "execute_result"
    }
   ],
   "source": [
    "st.partition('he')"
   ]
  },
  {
   "cell_type": "code",
   "execution_count": 177,
   "id": "c0440ce9",
   "metadata": {},
   "outputs": [
    {
     "data": {
      "text/plain": [
       "'hELLo'"
      ]
     },
     "execution_count": 177,
     "metadata": {},
     "output_type": "execute_result"
    }
   ],
   "source": [
    "#swpcase - toggle case\n",
    "\n",
    "\"HellO\".swapcase()"
   ]
  },
  {
   "cell_type": "code",
   "execution_count": 178,
   "id": "3b283065",
   "metadata": {},
   "outputs": [],
   "source": [
    "# format(args)\n",
    "\n",
    "greeting = \"Hello {}! welcome to {}.\""
   ]
  },
  {
   "cell_type": "code",
   "execution_count": 179,
   "id": "3a3b6da8",
   "metadata": {},
   "outputs": [
    {
     "data": {
      "text/plain": [
       "'Hello {}! welcome to {}.'"
      ]
     },
     "execution_count": 179,
     "metadata": {},
     "output_type": "execute_result"
    }
   ],
   "source": [
    "greeting"
   ]
  },
  {
   "cell_type": "code",
   "execution_count": 180,
   "id": "6c992b3c",
   "metadata": {},
   "outputs": [
    {
     "data": {
      "text/plain": [
       "'Hello paro! welcome to india.'"
      ]
     },
     "execution_count": 180,
     "metadata": {},
     "output_type": "execute_result"
    }
   ],
   "source": [
    "greeting.format('paro','india')"
   ]
  },
  {
   "cell_type": "code",
   "execution_count": 181,
   "id": "b4b5c8d8",
   "metadata": {},
   "outputs": [
    {
     "data": {
      "text/plain": [
       "'Hello india! welcome to paro.'"
      ]
     },
     "execution_count": 181,
     "metadata": {},
     "output_type": "execute_result"
    }
   ],
   "source": [
    "greeting.format('india','paro')"
   ]
  },
  {
   "cell_type": "code",
   "execution_count": 182,
   "id": "9b1d7dba",
   "metadata": {},
   "outputs": [],
   "source": [
    "# using index number\n",
    "\n",
    "greeting = \"Hello {1}! welcome to {0}.\""
   ]
  },
  {
   "cell_type": "code",
   "execution_count": 184,
   "id": "378b0322",
   "metadata": {},
   "outputs": [
    {
     "data": {
      "text/plain": [
       "'Hello paro! welcome to india.'"
      ]
     },
     "execution_count": 184,
     "metadata": {},
     "output_type": "execute_result"
    }
   ],
   "source": [
    "greeting.format('india','paro')"
   ]
  },
  {
   "cell_type": "code",
   "execution_count": 185,
   "id": "3010c82d",
   "metadata": {},
   "outputs": [],
   "source": [
    "# using keywords\n",
    "\n",
    "greeting = \"Hello {name}! welcome to {place}.\""
   ]
  },
  {
   "cell_type": "code",
   "execution_count": 188,
   "id": "6b6477c4",
   "metadata": {},
   "outputs": [
    {
     "data": {
      "text/plain": [
       "'Hello paro! welcome to india.'"
      ]
     },
     "execution_count": 188,
     "metadata": {},
     "output_type": "execute_result"
    }
   ],
   "source": [
    "greeting.format(name='paro',place='india')"
   ]
  },
  {
   "cell_type": "code",
   "execution_count": 189,
   "id": "5bf6a49b",
   "metadata": {},
   "outputs": [],
   "source": [
    "# using f-string\n",
    "name= 'paro'\n",
    "place = 'india'\n",
    "greeting = f\"Hello {name}! welcome to {place}.\""
   ]
  },
  {
   "cell_type": "code",
   "execution_count": 190,
   "id": "6529a33d",
   "metadata": {},
   "outputs": [
    {
     "data": {
      "text/plain": [
       "'Hello paro! welcome to india.'"
      ]
     },
     "execution_count": 190,
     "metadata": {},
     "output_type": "execute_result"
    }
   ],
   "source": [
    "greeting"
   ]
  },
  {
   "cell_type": "code",
   "execution_count": 191,
   "id": "3ff486aa",
   "metadata": {},
   "outputs": [],
   "source": [
    "# replace(old, new, count=optional)\n",
    "\n",
    "w = \"Hello! welcome to Python Learning\""
   ]
  },
  {
   "cell_type": "code",
   "execution_count": 192,
   "id": "379506a5",
   "metadata": {},
   "outputs": [
    {
     "data": {
      "text/plain": [
       "'Hellw! welcwme tw Pythwn Learning'"
      ]
     },
     "execution_count": 192,
     "metadata": {},
     "output_type": "execute_result"
    }
   ],
   "source": [
    "w.replace('o','w')"
   ]
  },
  {
   "cell_type": "code",
   "execution_count": 193,
   "id": "b163166b",
   "metadata": {},
   "outputs": [
    {
     "data": {
      "text/plain": [
       "'Hellw! welcwme to Python Learning'"
      ]
     },
     "execution_count": 193,
     "metadata": {},
     "output_type": "execute_result"
    }
   ],
   "source": [
    "w.replace('o','w',2)"
   ]
  },
  {
   "cell_type": "code",
   "execution_count": 199,
   "id": "b2544278",
   "metadata": {},
   "outputs": [],
   "source": [
    "# zfill(int) - zero fill\n",
    "\n",
    "lenn=5\n",
    "num= '123'"
   ]
  },
  {
   "cell_type": "code",
   "execution_count": 200,
   "id": "fd156925",
   "metadata": {},
   "outputs": [
    {
     "data": {
      "text/plain": [
       "'00123'"
      ]
     },
     "execution_count": 200,
     "metadata": {},
     "output_type": "execute_result"
    }
   ],
   "source": [
    "num.zfill(lenn)"
   ]
  },
  {
   "cell_type": "code",
   "execution_count": 201,
   "id": "c2b3489e",
   "metadata": {},
   "outputs": [
    {
     "data": {
      "text/plain": [
       "97"
      ]
     },
     "execution_count": 201,
     "metadata": {},
     "output_type": "execute_result"
    }
   ],
   "source": [
    "# ord(char) - returns an ordinal number\n",
    "\n",
    "ord('a')"
   ]
  },
  {
   "cell_type": "code",
   "execution_count": 202,
   "id": "1da6cbcb",
   "metadata": {},
   "outputs": [
    {
     "data": {
      "text/plain": [
       "65"
      ]
     },
     "execution_count": 202,
     "metadata": {},
     "output_type": "execute_result"
    }
   ],
   "source": [
    "ord('A')"
   ]
  },
  {
   "cell_type": "code",
   "execution_count": 203,
   "id": "249e5029",
   "metadata": {},
   "outputs": [
    {
     "data": {
      "text/plain": [
       "122"
      ]
     },
     "execution_count": 203,
     "metadata": {},
     "output_type": "execute_result"
    }
   ],
   "source": [
    "ord('z')"
   ]
  },
  {
   "cell_type": "code",
   "execution_count": 204,
   "id": "1b1403fb",
   "metadata": {},
   "outputs": [
    {
     "data": {
      "text/plain": [
       "90"
      ]
     },
     "execution_count": 204,
     "metadata": {},
     "output_type": "execute_result"
    }
   ],
   "source": [
    "ord('Z')"
   ]
  },
  {
   "cell_type": "code",
   "execution_count": 205,
   "id": "1eae2115",
   "metadata": {},
   "outputs": [
    {
     "data": {
      "text/plain": [
       "'a'"
      ]
     },
     "execution_count": 205,
     "metadata": {},
     "output_type": "execute_result"
    }
   ],
   "source": [
    "# chr(char)\n",
    "\n",
    "chr(97)"
   ]
  },
  {
   "cell_type": "code",
   "execution_count": 206,
   "id": "8127c7e4",
   "metadata": {},
   "outputs": [
    {
     "data": {
      "text/plain": [
       "'paro'"
      ]
     },
     "execution_count": 206,
     "metadata": {},
     "output_type": "execute_result"
    }
   ],
   "source": [
    "name"
   ]
  },
  {
   "cell_type": "code",
   "execution_count": 210,
   "id": "d4f91eb1",
   "metadata": {},
   "outputs": [
    {
     "name": "stdout",
     "output_type": "stream",
     "text": [
      "112\n",
      "97\n",
      "114\n",
      "111\n"
     ]
    }
   ],
   "source": [
    "for i in name:\n",
    "    \n",
    "    print (ord(i))"
   ]
  },
  {
   "cell_type": "code",
   "execution_count": null,
   "id": "84f7ad73",
   "metadata": {},
   "outputs": [],
   "source": []
  }
 ],
 "metadata": {
  "kernelspec": {
   "display_name": "Python 3 (ipykernel)",
   "language": "python",
   "name": "python3"
  },
  "language_info": {
   "codemirror_mode": {
    "name": "ipython",
    "version": 3
   },
   "file_extension": ".py",
   "mimetype": "text/x-python",
   "name": "python",
   "nbconvert_exporter": "python",
   "pygments_lexer": "ipython3",
   "version": "3.10.9"
  }
 },
 "nbformat": 4,
 "nbformat_minor": 5
}
