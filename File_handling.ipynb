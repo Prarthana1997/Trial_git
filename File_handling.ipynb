{
 "cells": [
  {
   "cell_type": "code",
   "execution_count": 2,
   "id": "9eddcdb0",
   "metadata": {},
   "outputs": [],
   "source": [
    "file= open ('mytext.txt')"
   ]
  },
  {
   "cell_type": "code",
   "execution_count": 3,
   "id": "61f42d7a",
   "metadata": {},
   "outputs": [],
   "source": [
    "file= open('mytext.txt','w')"
   ]
  },
  {
   "cell_type": "code",
   "execution_count": 4,
   "id": "b42706fa",
   "metadata": {},
   "outputs": [
    {
     "data": {
      "text/plain": [
       "_io.TextIOWrapper"
      ]
     },
     "execution_count": 4,
     "metadata": {},
     "output_type": "execute_result"
    }
   ],
   "source": [
    "type(file)"
   ]
  },
  {
   "cell_type": "code",
   "execution_count": 5,
   "id": "820bab18",
   "metadata": {},
   "outputs": [
    {
     "data": {
      "text/plain": [
       "False"
      ]
     },
     "execution_count": 5,
     "metadata": {},
     "output_type": "execute_result"
    }
   ],
   "source": [
    "# readable() - returns True if file is opened with read mode\n",
    "\n",
    "file.readable()"
   ]
  },
  {
   "cell_type": "code",
   "execution_count": 6,
   "id": "59a5142c",
   "metadata": {},
   "outputs": [
    {
     "data": {
      "text/plain": [
       "True"
      ]
     },
     "execution_count": 6,
     "metadata": {},
     "output_type": "execute_result"
    }
   ],
   "source": [
    "# writable()\n",
    "\n",
    "file.writable()"
   ]
  },
  {
   "cell_type": "code",
   "execution_count": 7,
   "id": "4aeed245",
   "metadata": {},
   "outputs": [
    {
     "data": {
      "text/plain": [
       "23"
      ]
     },
     "execution_count": 7,
     "metadata": {},
     "output_type": "execute_result"
    }
   ],
   "source": [
    "# write(content) - returns an integer value as bytes of written data into a file\n",
    "\n",
    "file.write('HELLO , PRARTHANA HERE.')"
   ]
  },
  {
   "cell_type": "code",
   "execution_count": 8,
   "id": "89825ebd",
   "metadata": {},
   "outputs": [
    {
     "data": {
      "text/plain": [
       "23"
      ]
     },
     "execution_count": 8,
     "metadata": {},
     "output_type": "execute_result"
    }
   ],
   "source": [
    "len('HELLO , PRARTHANA HERE.')"
   ]
  },
  {
   "cell_type": "code",
   "execution_count": 9,
   "id": "24a9e4d5",
   "metadata": {},
   "outputs": [],
   "source": [
    "file.close()"
   ]
  },
  {
   "cell_type": "code",
   "execution_count": 10,
   "id": "c5a76bd5",
   "metadata": {},
   "outputs": [],
   "source": [
    "file=open('mytext.txt','a')"
   ]
  },
  {
   "cell_type": "code",
   "execution_count": 11,
   "id": "1533107a",
   "metadata": {},
   "outputs": [],
   "source": [
    "string ='''line one\n",
    "line two\n",
    "line three'''"
   ]
  },
  {
   "cell_type": "code",
   "execution_count": 12,
   "id": "c01ba791",
   "metadata": {},
   "outputs": [
    {
     "data": {
      "text/plain": [
       "'line one\\nline two\\nline three'"
      ]
     },
     "execution_count": 12,
     "metadata": {},
     "output_type": "execute_result"
    }
   ],
   "source": [
    "string"
   ]
  },
  {
   "cell_type": "code",
   "execution_count": 13,
   "id": "5f7c98e0",
   "metadata": {},
   "outputs": [
    {
     "data": {
      "text/plain": [
       "['line one', 'line two', 'line three']"
      ]
     },
     "execution_count": 13,
     "metadata": {},
     "output_type": "execute_result"
    }
   ],
   "source": [
    "# ['line one\\n', 'line two\\n']\n",
    "\n",
    "string.splitlines()"
   ]
  },
  {
   "cell_type": "code",
   "execution_count": 14,
   "id": "5f02a03c",
   "metadata": {},
   "outputs": [
    {
     "data": {
      "text/plain": [
       "'line one\\nline two\\nline three'"
      ]
     },
     "execution_count": 14,
     "metadata": {},
     "output_type": "execute_result"
    }
   ],
   "source": [
    "'\\n'.join(string.splitlines())"
   ]
  },
  {
   "cell_type": "code",
   "execution_count": 15,
   "id": "e549ab13",
   "metadata": {},
   "outputs": [],
   "source": [
    "s=string.splitlines()"
   ]
  },
  {
   "cell_type": "code",
   "execution_count": 17,
   "id": "925de714",
   "metadata": {},
   "outputs": [],
   "source": [
    "for i in range(len(s)):\n",
    "    s[i]=s[i] +'\\n'"
   ]
  },
  {
   "cell_type": "code",
   "execution_count": 18,
   "id": "df22d47f",
   "metadata": {},
   "outputs": [
    {
     "data": {
      "text/plain": [
       "['line one\\n', 'line two\\n', 'line three\\n']"
      ]
     },
     "execution_count": 18,
     "metadata": {},
     "output_type": "execute_result"
    }
   ],
   "source": [
    "s"
   ]
  },
  {
   "cell_type": "code",
   "execution_count": 19,
   "id": "236abd1e",
   "metadata": {},
   "outputs": [],
   "source": [
    "file.writelines(s)"
   ]
  },
  {
   "cell_type": "code",
   "execution_count": 21,
   "id": "3a9fda97",
   "metadata": {},
   "outputs": [],
   "source": [
    "file.close()"
   ]
  },
  {
   "cell_type": "code",
   "execution_count": 22,
   "id": "cf967426",
   "metadata": {},
   "outputs": [],
   "source": [
    "# reading\n",
    "\n",
    "file = open('mytext.txt', 'r')"
   ]
  },
  {
   "cell_type": "code",
   "execution_count": 24,
   "id": "a63b3327",
   "metadata": {},
   "outputs": [
    {
     "data": {
      "text/plain": [
       "'HELLO , PRARTHANA HERE.line one\\nline two\\nline three\\n'"
      ]
     },
     "execution_count": 24,
     "metadata": {},
     "output_type": "execute_result"
    }
   ],
   "source": [
    "file.read()"
   ]
  },
  {
   "cell_type": "code",
   "execution_count": 25,
   "id": "41bfeb58",
   "metadata": {},
   "outputs": [
    {
     "data": {
      "text/plain": [
       "''"
      ]
     },
     "execution_count": 25,
     "metadata": {},
     "output_type": "execute_result"
    }
   ],
   "source": [
    "file.read()"
   ]
  },
  {
   "cell_type": "code",
   "execution_count": 26,
   "id": "b2c28ce3",
   "metadata": {},
   "outputs": [
    {
     "data": {
      "text/plain": [
       "0"
      ]
     },
     "execution_count": 26,
     "metadata": {},
     "output_type": "execute_result"
    }
   ],
   "source": [
    "# seek(position/index)\n",
    "\n",
    "file.seek(0)"
   ]
  },
  {
   "cell_type": "code",
   "execution_count": 28,
   "id": "28aa1a39",
   "metadata": {},
   "outputs": [
    {
     "data": {
      "text/plain": [
       "' , PR'"
      ]
     },
     "execution_count": 28,
     "metadata": {},
     "output_type": "execute_result"
    }
   ],
   "source": [
    "file.read(5)"
   ]
  },
  {
   "cell_type": "code",
   "execution_count": 29,
   "id": "455731e0",
   "metadata": {},
   "outputs": [
    {
     "data": {
      "text/plain": [
       "'ARTHANA HE'"
      ]
     },
     "execution_count": 29,
     "metadata": {},
     "output_type": "execute_result"
    }
   ],
   "source": [
    "file.read(10)"
   ]
  },
  {
   "cell_type": "code",
   "execution_count": 30,
   "id": "fe44b5bb",
   "metadata": {},
   "outputs": [
    {
     "data": {
      "text/plain": [
       "'RE.line one\\nline two\\nline three\\n'"
      ]
     },
     "execution_count": 30,
     "metadata": {},
     "output_type": "execute_result"
    }
   ],
   "source": [
    "file.read()"
   ]
  },
  {
   "cell_type": "code",
   "execution_count": 48,
   "id": "dc6ae4f2",
   "metadata": {},
   "outputs": [
    {
     "data": {
      "text/plain": [
       "0"
      ]
     },
     "execution_count": 48,
     "metadata": {},
     "output_type": "execute_result"
    }
   ],
   "source": [
    "file.seek(0)"
   ]
  },
  {
   "cell_type": "code",
   "execution_count": 49,
   "id": "7e614879",
   "metadata": {},
   "outputs": [
    {
     "data": {
      "text/plain": [
       "'HELLO , PRARTHANA HERE.line one\\n'"
      ]
     },
     "execution_count": 49,
     "metadata": {},
     "output_type": "execute_result"
    }
   ],
   "source": [
    "file.readline()"
   ]
  },
  {
   "cell_type": "code",
   "execution_count": 50,
   "id": "2c65d7ab",
   "metadata": {},
   "outputs": [
    {
     "data": {
      "text/plain": [
       "'line two\\n'"
      ]
     },
     "execution_count": 50,
     "metadata": {},
     "output_type": "execute_result"
    }
   ],
   "source": [
    "file.readline()"
   ]
  },
  {
   "cell_type": "code",
   "execution_count": 51,
   "id": "68a18f7b",
   "metadata": {},
   "outputs": [
    {
     "data": {
      "text/plain": [
       "'line three'"
      ]
     },
     "execution_count": 51,
     "metadata": {},
     "output_type": "execute_result"
    }
   ],
   "source": [
    "file.readline(10)"
   ]
  },
  {
   "cell_type": "code",
   "execution_count": 52,
   "id": "90d85326",
   "metadata": {},
   "outputs": [
    {
     "data": {
      "text/plain": [
       "0"
      ]
     },
     "execution_count": 52,
     "metadata": {},
     "output_type": "execute_result"
    }
   ],
   "source": [
    "file.seek(0)"
   ]
  },
  {
   "cell_type": "code",
   "execution_count": 53,
   "id": "cdb39280",
   "metadata": {},
   "outputs": [
    {
     "data": {
      "text/plain": [
       "['HELLO , PRARTHANA HERE.line one\\n', 'line two\\n', 'line three\\n']"
      ]
     },
     "execution_count": 53,
     "metadata": {},
     "output_type": "execute_result"
    }
   ],
   "source": [
    "# readlines()\n",
    "\n",
    "file.readlines()"
   ]
  },
  {
   "cell_type": "code",
   "execution_count": 54,
   "id": "7076bfa0",
   "metadata": {},
   "outputs": [],
   "source": [
    "file.close()"
   ]
  },
  {
   "cell_type": "code",
   "execution_count": 64,
   "id": "e0145e27",
   "metadata": {},
   "outputs": [],
   "source": [
    "#binary\n",
    "\n",
    "bin_file= open('adiyogi.jpg')"
   ]
  },
  {
   "cell_type": "code",
   "execution_count": 65,
   "id": "23426a57",
   "metadata": {},
   "outputs": [],
   "source": [
    "bin_file= open('adiyogi.jpg','rb')"
   ]
  },
  {
   "cell_type": "code",
   "execution_count": 66,
   "id": "3f36a60c",
   "metadata": {},
   "outputs": [
    {
     "data": {
      "text/plain": [
       "b'\\xff\\xd8\\xff\\xe0\\x00\\x10JFIF\\x00\\x01\\x01\\x00\\x00\\x01\\x00\\x01\\x00\\x00\\xff\\xdb\\x00\\x84\\x00\\n\\x07\\x08\\x15\\x16\\x15\\x12\\x15\\x15\\x15\\x18\\x18\\x18\\x18\\x18\\x18\\x12\\x18\\x18\\x18\\x18\\x11\\x18\\x18\\x18'"
      ]
     },
     "execution_count": 66,
     "metadata": {},
     "output_type": "execute_result"
    }
   ],
   "source": [
    "bin_file.read(50)"
   ]
  },
  {
   "cell_type": "code",
   "execution_count": 67,
   "id": "d8907106",
   "metadata": {},
   "outputs": [
    {
     "data": {
      "text/plain": [
       "0"
      ]
     },
     "execution_count": 67,
     "metadata": {},
     "output_type": "execute_result"
    }
   ],
   "source": [
    "bin_file.seek(0)"
   ]
  },
  {
   "cell_type": "code",
   "execution_count": 68,
   "id": "0135217a",
   "metadata": {},
   "outputs": [],
   "source": [
    "bin_data = bin_file.read()"
   ]
  },
  {
   "cell_type": "code",
   "execution_count": 69,
   "id": "4f25f1a3",
   "metadata": {},
   "outputs": [
    {
     "data": {
      "text/plain": [
       "5498"
      ]
     },
     "execution_count": 69,
     "metadata": {},
     "output_type": "execute_result"
    }
   ],
   "source": [
    "len(bin_data)"
   ]
  },
  {
   "cell_type": "code",
   "execution_count": 70,
   "id": "461b8f17",
   "metadata": {},
   "outputs": [],
   "source": [
    "new_bin_file= open('new_adiyogi.jpg','wb')"
   ]
  },
  {
   "cell_type": "code",
   "execution_count": 71,
   "id": "da50769a",
   "metadata": {},
   "outputs": [
    {
     "data": {
      "text/plain": [
       "5498"
      ]
     },
     "execution_count": 71,
     "metadata": {},
     "output_type": "execute_result"
    }
   ],
   "source": [
    "new_bin_file.write(bin_data)"
   ]
  },
  {
   "cell_type": "code",
   "execution_count": 72,
   "id": "9598cc76",
   "metadata": {},
   "outputs": [],
   "source": [
    "#ipython\n",
    "\n",
    "from IPython.display import YouTubeVideo"
   ]
  },
  {
   "cell_type": "code",
   "execution_count": 73,
   "id": "a18dc44a",
   "metadata": {},
   "outputs": [],
   "source": [
    "url='https://www.youtube.com/watch?v=GXWfue9VhTY'\n",
    "vid_id=url.split('=')[-1]"
   ]
  },
  {
   "cell_type": "code",
   "execution_count": 75,
   "id": "d1caf1c9",
   "metadata": {},
   "outputs": [
    {
     "data": {
      "text/plain": [
       "'GXWfue9VhTY'"
      ]
     },
     "execution_count": 75,
     "metadata": {},
     "output_type": "execute_result"
    }
   ],
   "source": [
    "vid_id"
   ]
  },
  {
   "cell_type": "code",
   "execution_count": 77,
   "id": "44df63d0",
   "metadata": {},
   "outputs": [],
   "source": [
    "yt = YouTubeVideo(vid_id)"
   ]
  },
  {
   "cell_type": "code",
   "execution_count": 78,
   "id": "65ebfde9",
   "metadata": {},
   "outputs": [
    {
     "data": {
      "image/jpeg": "[encoded data removed]",
      "text/html": [
       "\n",
       "        <iframe\n",
       "            width=\"400\"\n",
       "            height=\"300\"\n",
       "            src=\"https://www.youtube.com/embed/GXWfue9VhTY\"\n",
       "            frameborder=\"0\"\n",
       "            allowfullscreen\n",
       "            \n",
       "        ></iframe>\n",
       "        "
      ],
      "text/plain": [
       "<IPython.lib.display.YouTubeVideo at 0x1c8426a9570>"
      ]
     },
     "execution_count": 78,
     "metadata": {},
     "output_type": "execute_result"
    }
   ],
   "source": [
    "yt"
   ]
  },
  {
   "cell_type": "code",
   "execution_count": 83,
   "id": "524564bc",
   "metadata": {},
   "outputs": [],
   "source": [
    "url='https://www.youtube.com/watch?v=GXWfue9VhTY,https://www.youtube.com/watch?v=KJgsSFOSQv'\n",
    "v_id=url.split('=')"
   ]
  },
  {
   "cell_type": "code",
   "execution_count": 82,
   "id": "c57aaf2d",
   "metadata": {},
   "outputs": [
    {
     "data": {
      "text/plain": [
       "'KJgsSFOSQv'"
      ]
     },
     "execution_count": 82,
     "metadata": {},
     "output_type": "execute_result"
    }
   ],
   "source": [
    "v_id"
   ]
  },
  {
   "cell_type": "code",
   "execution_count": 87,
   "id": "fc14114d",
   "metadata": {},
   "outputs": [
    {
     "ename": "AttributeError",
     "evalue": "'_io.TextIOWrapper' object has no attribute 'rename'",
     "output_type": "error",
     "traceback": [
      "\u001b[1;31m---------------------------------------------------------------------------\u001b[0m",
      "\u001b[1;31mAttributeError\u001b[0m                            Traceback (most recent call last)",
      "Cell \u001b[1;32mIn[87], line 1\u001b[0m\n\u001b[1;32m----> 1\u001b[0m \u001b[43mfile\u001b[49m\u001b[38;5;241;43m.\u001b[39;49m\u001b[43mrename\u001b[49m(\u001b[38;5;124m'\u001b[39m\u001b[38;5;124mmytext.txt\u001b[39m\u001b[38;5;124m'\u001b[39m,\u001b[38;5;124m'\u001b[39m\u001b[38;5;124mnew_rename_file.txt\u001b[39m\u001b[38;5;124m'\u001b[39m)\n",
      "\u001b[1;31mAttributeError\u001b[0m: '_io.TextIOWrapper' object has no attribute 'rename'"
     ]
    }
   ],
   "source": [
    "file.rename('mytext.txt','new_rename_file.txt')"
   ]
  },
  {
   "cell_type": "code",
   "execution_count": 89,
   "id": "a474f2fb",
   "metadata": {},
   "outputs": [
    {
     "ename": "AttributeError",
     "evalue": "'_io.TextIOWrapper' object has no attribute 'rename'",
     "output_type": "error",
     "traceback": [
      "\u001b[1;31m---------------------------------------------------------------------------\u001b[0m",
      "\u001b[1;31mAttributeError\u001b[0m                            Traceback (most recent call last)",
      "Cell \u001b[1;32mIn[89], line 1\u001b[0m\n\u001b[1;32m----> 1\u001b[0m \u001b[43mfile\u001b[49m\u001b[38;5;241;43m.\u001b[39;49m\u001b[43mrename\u001b[49m(\u001b[38;5;124m'\u001b[39m\u001b[38;5;124mmytext\u001b[39m\u001b[38;5;124m'\u001b[39m,\u001b[38;5;124m'\u001b[39m\u001b[38;5;124mnew_rename_file\u001b[39m\u001b[38;5;124m'\u001b[39m)\n",
      "\u001b[1;31mAttributeError\u001b[0m: '_io.TextIOWrapper' object has no attribute 'rename'"
     ]
    }
   ],
   "source": [
    "file.rename('mytext','new_rename_file')"
   ]
  },
  {
   "cell_type": "code",
   "execution_count": null,
   "id": "f7109292",
   "metadata": {},
   "outputs": [],
   "source": []
  }
 ],
 "metadata": {
  "kernelspec": {
   "display_name": "Python 3 (ipykernel)",
   "language": "python",
   "name": "python3"
  },
  "language_info": {
   "codemirror_mode": {
    "name": "ipython",
    "version": 3
   },
   "file_extension": ".py",
   "mimetype": "text/x-python",
   "name": "python",
   "nbconvert_exporter": "python",
   "pygments_lexer": "ipython3",
   "version": "3.10.9"
  }
 },
 "nbformat": 4,
 "nbformat_minor": 5
}
