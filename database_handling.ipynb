{
 "cells": [
  {
   "cell_type": "code",
   "execution_count": 1,
   "id": "0a11120b",
   "metadata": {},
   "outputs": [],
   "source": [
    "import sqlite3 as sql"
   ]
  },
  {
   "cell_type": "code",
   "execution_count": 2,
   "id": "bb14f57b",
   "metadata": {},
   "outputs": [
    {
     "name": "stdout",
     "output_type": "stream",
     "text": [
      "['Binary', 'Connection', 'Cursor', 'DataError', 'DatabaseError', 'Date', 'DateFromTicks', 'Error', 'IntegrityError', 'InterfaceError', 'InternalError', 'NotSupportedError', 'OperationalError', 'PARSE_COLNAMES', 'PARSE_DECLTYPES', 'PrepareProtocol', 'ProgrammingError', 'Row', 'SQLITE_ALTER_TABLE', 'SQLITE_ANALYZE', 'SQLITE_ATTACH', 'SQLITE_CREATE_INDEX', 'SQLITE_CREATE_TABLE', 'SQLITE_CREATE_TEMP_INDEX', 'SQLITE_CREATE_TEMP_TABLE', 'SQLITE_CREATE_TEMP_TRIGGER', 'SQLITE_CREATE_TEMP_VIEW', 'SQLITE_CREATE_TRIGGER', 'SQLITE_CREATE_VIEW', 'SQLITE_CREATE_VTABLE', 'SQLITE_DELETE', 'SQLITE_DENY', 'SQLITE_DETACH', 'SQLITE_DONE', 'SQLITE_DROP_INDEX', 'SQLITE_DROP_TABLE', 'SQLITE_DROP_TEMP_INDEX', 'SQLITE_DROP_TEMP_TABLE', 'SQLITE_DROP_TEMP_TRIGGER', 'SQLITE_DROP_TEMP_VIEW', 'SQLITE_DROP_TRIGGER', 'SQLITE_DROP_VIEW', 'SQLITE_DROP_VTABLE', 'SQLITE_FUNCTION', 'SQLITE_IGNORE', 'SQLITE_INSERT', 'SQLITE_OK', 'SQLITE_PRAGMA', 'SQLITE_READ', 'SQLITE_RECURSIVE', 'SQLITE_REINDEX', 'SQLITE_SAVEPOINT', 'SQLITE_SELECT', 'SQLITE_TRANSACTION', 'SQLITE_UPDATE', 'Time', 'TimeFromTicks', 'Timestamp', 'TimestampFromTicks', 'Warning', '__builtins__', '__cached__', '__doc__', '__file__', '__getattr__', '__loader__', '__name__', '__package__', '__path__', '__spec__', 'adapt', 'adapters', 'apilevel', 'collections', 'complete_statement', 'connect', 'converters', 'datetime', 'dbapi2', 'enable_callback_tracebacks', 'enable_shared_cache', 'paramstyle', 'register_adapter', 'register_converter', 'sqlite_version', 'sqlite_version_info', 'threadsafety', 'time', 'version', 'version_info']\n"
     ]
    }
   ],
   "source": [
    "print(dir(sql))"
   ]
  },
  {
   "cell_type": "code",
   "execution_count": 3,
   "id": "20abd78f",
   "metadata": {},
   "outputs": [],
   "source": [
    "db= sql.connect('python_sqliteee.db')"
   ]
  },
  {
   "cell_type": "code",
   "execution_count": 4,
   "id": "002dda74",
   "metadata": {},
   "outputs": [
    {
     "data": {
      "text/plain": [
       "['DataError',\n",
       " 'DatabaseError',\n",
       " 'Error',\n",
       " 'IntegrityError',\n",
       " 'InterfaceError',\n",
       " 'InternalError',\n",
       " 'NotSupportedError',\n",
       " 'OperationalError',\n",
       " 'ProgrammingError',\n",
       " 'Warning',\n",
       " '__call__',\n",
       " '__class__',\n",
       " '__delattr__',\n",
       " '__dir__',\n",
       " '__doc__',\n",
       " '__enter__',\n",
       " '__eq__',\n",
       " '__exit__',\n",
       " '__format__',\n",
       " '__ge__',\n",
       " '__getattribute__',\n",
       " '__gt__',\n",
       " '__hash__',\n",
       " '__init__',\n",
       " '__init_subclass__',\n",
       " '__le__',\n",
       " '__lt__',\n",
       " '__module__',\n",
       " '__ne__',\n",
       " '__new__',\n",
       " '__reduce__',\n",
       " '__reduce_ex__',\n",
       " '__repr__',\n",
       " '__setattr__',\n",
       " '__sizeof__',\n",
       " '__str__',\n",
       " '__subclasshook__',\n",
       " 'backup',\n",
       " 'close',\n",
       " 'commit',\n",
       " 'create_aggregate',\n",
       " 'create_collation',\n",
       " 'create_function',\n",
       " 'cursor',\n",
       " 'enable_load_extension',\n",
       " 'execute',\n",
       " 'executemany',\n",
       " 'executescript',\n",
       " 'in_transaction',\n",
       " 'interrupt',\n",
       " 'isolation_level',\n",
       " 'iterdump',\n",
       " 'load_extension',\n",
       " 'rollback',\n",
       " 'row_factory',\n",
       " 'set_authorizer',\n",
       " 'set_progress_handler',\n",
       " 'set_trace_callback',\n",
       " 'text_factory',\n",
       " 'total_changes']"
      ]
     },
     "execution_count": 4,
     "metadata": {},
     "output_type": "execute_result"
    }
   ],
   "source": [
    "dir(db)"
   ]
  },
  {
   "cell_type": "code",
   "execution_count": 5,
   "id": "d3e5487b",
   "metadata": {},
   "outputs": [],
   "source": [
    "db_cursor= db.cursor()"
   ]
  },
  {
   "cell_type": "code",
   "execution_count": 6,
   "id": "58214dcb",
   "metadata": {},
   "outputs": [],
   "source": [
    "cmd='create table users (id int , name varchar(20), city varchar(20));'"
   ]
  },
  {
   "cell_type": "code",
   "execution_count": 7,
   "id": "28e5f44f",
   "metadata": {},
   "outputs": [
    {
     "data": {
      "text/plain": [
       "<sqlite3.Cursor at 0x1fd0eee2140>"
      ]
     },
     "execution_count": 7,
     "metadata": {},
     "output_type": "execute_result"
    }
   ],
   "source": [
    "db_cursor.execute(cmd)"
   ]
  },
  {
   "cell_type": "code",
   "execution_count": 8,
   "id": "ba8f1c44",
   "metadata": {},
   "outputs": [
    {
     "data": {
      "text/plain": [
       "<sqlite3.Cursor at 0x1fd0eee2140>"
      ]
     },
     "execution_count": 8,
     "metadata": {},
     "output_type": "execute_result"
    }
   ],
   "source": [
    "db_cursor.execute('insert into users (id,name,city) values (1,\"prarthana\",\"ahmedabad\");')"
   ]
  },
  {
   "cell_type": "code",
   "execution_count": 9,
   "id": "80361953",
   "metadata": {},
   "outputs": [],
   "source": [
    "#commit to save the values in\n",
    "\n",
    "db.commit()"
   ]
  },
  {
   "cell_type": "code",
   "execution_count": 10,
   "id": "b90af581",
   "metadata": {},
   "outputs": [],
   "source": [
    "data={\n",
    "    'id': 2,\n",
    "    'name': 'samarth',\n",
    "    'city' : 'surat'\n",
    "}"
   ]
  },
  {
   "cell_type": "code",
   "execution_count": 11,
   "id": "6d8c41e4",
   "metadata": {},
   "outputs": [],
   "source": [
    "# make query from data dict\n",
    "\n",
    "cmd = f'insert into table_name({data.keys()}) values({data.values()});'"
   ]
  },
  {
   "cell_type": "code",
   "execution_count": 12,
   "id": "c45d9e1e",
   "metadata": {},
   "outputs": [],
   "source": [
    "cmd = f'insert into users {tuple(data.keys())} values {tuple(data.values())};'"
   ]
  },
  {
   "cell_type": "code",
   "execution_count": 13,
   "id": "f7090096",
   "metadata": {},
   "outputs": [
    {
     "data": {
      "text/plain": [
       "<sqlite3.Cursor at 0x1fd0eee2140>"
      ]
     },
     "execution_count": 13,
     "metadata": {},
     "output_type": "execute_result"
    }
   ],
   "source": [
    "db_cursor.execute(cmd)"
   ]
  },
  {
   "cell_type": "code",
   "execution_count": 14,
   "id": "a6102c37",
   "metadata": {},
   "outputs": [],
   "source": [
    "db.commit()"
   ]
  },
  {
   "cell_type": "code",
   "execution_count": 15,
   "id": "36d8deb5",
   "metadata": {},
   "outputs": [],
   "source": [
    "data={\n",
    "    'id': 3,\n",
    "    'name': 'samarth',\n",
    "    'city' : 'surat'\n",
    "}"
   ]
  },
  {
   "cell_type": "code",
   "execution_count": 16,
   "id": "7bccf4e9",
   "metadata": {},
   "outputs": [],
   "source": [
    "cmd = f'insert into users {data.keys()} values {data.values()};'"
   ]
  },
  {
   "cell_type": "code",
   "execution_count": 17,
   "id": "26ebc8ce",
   "metadata": {},
   "outputs": [
    {
     "ename": "OperationalError",
     "evalue": "near \"dict_keys\": syntax error",
     "output_type": "error",
     "traceback": [
      "\u001b[1;31m---------------------------------------------------------------------------\u001b[0m",
      "\u001b[1;31mOperationalError\u001b[0m                          Traceback (most recent call last)",
      "Cell \u001b[1;32mIn[17], line 1\u001b[0m\n\u001b[1;32m----> 1\u001b[0m \u001b[43mdb_cursor\u001b[49m\u001b[38;5;241;43m.\u001b[39;49m\u001b[43mexecute\u001b[49m\u001b[43m(\u001b[49m\u001b[43mcmd\u001b[49m\u001b[43m)\u001b[49m\n",
      "\u001b[1;31mOperationalError\u001b[0m: near \"dict_keys\": syntax error"
     ]
    }
   ],
   "source": [
    "db_cursor.execute(cmd)"
   ]
  },
  {
   "cell_type": "code",
   "execution_count": 18,
   "id": "b86a512d",
   "metadata": {},
   "outputs": [
    {
     "data": {
      "text/plain": [
       "<sqlite3.Cursor at 0x1fd0eee2140>"
      ]
     },
     "execution_count": 18,
     "metadata": {},
     "output_type": "execute_result"
    }
   ],
   "source": [
    "# retriev data from database\n",
    "\n",
    "cmd='select * from users'\n",
    "\n",
    "db_cursor.execute(cmd)"
   ]
  },
  {
   "cell_type": "code",
   "execution_count": 19,
   "id": "c97f55a7",
   "metadata": {},
   "outputs": [
    {
     "data": {
      "text/plain": [
       "[(1, 'prarthana', 'ahmedabad'), (2, 'samarth', 'surat')]"
      ]
     },
     "execution_count": 19,
     "metadata": {},
     "output_type": "execute_result"
    }
   ],
   "source": [
    "db_cursor.fetchall()"
   ]
  },
  {
   "cell_type": "code",
   "execution_count": 21,
   "id": "0caafcbb",
   "metadata": {},
   "outputs": [],
   "source": [
    "#increment id in table \n",
    "\n",
    "data=[\n",
    "    {\n",
    "        'name': 'poojan',\n",
    "        'city':'mumbai'\n",
    "    },\n",
    "    \n",
    "    {\n",
    "        'name': 'abhi',\n",
    "        'city':'pune'\n",
    "    },\n",
    "    \n",
    "    {\n",
    "        'name': 'mona',\n",
    "        'city':'banglore'\n",
    "    }\n",
    "]"
   ]
  },
  {
   "cell_type": "code",
   "execution_count": 22,
   "id": "5f7f8f84",
   "metadata": {},
   "outputs": [
    {
     "name": "stdout",
     "output_type": "stream",
     "text": [
      "{'name': 'poojan', 'city': 'mumbai'}\n",
      "{'name': 'abhi', 'city': 'pune'}\n",
      "{'name': 'mona', 'city': 'banglore'}\n"
     ]
    }
   ],
   "source": [
    "for d in data:\n",
    "    print(d)"
   ]
  },
  {
   "cell_type": "code",
   "execution_count": 24,
   "id": "24a9a5c5",
   "metadata": {},
   "outputs": [
    {
     "name": "stdout",
     "output_type": "stream",
     "text": [
      "name poojan\n",
      "city mumbai\n",
      "name abhi\n",
      "city pune\n",
      "name mona\n",
      "city banglore\n"
     ]
    }
   ],
   "source": [
    "# k , v is key & values\n",
    "for d in data:\n",
    "    for k,v in d.items():\n",
    "        print(k,v)"
   ]
  },
  {
   "cell_type": "code",
   "execution_count": 26,
   "id": "b76b2233",
   "metadata": {},
   "outputs": [],
   "source": [
    "db_cursor.execute('select * from users')\n",
    "\n",
    "last_id= db_cursor.fetchall()[-1][0]"
   ]
  },
  {
   "cell_type": "code",
   "execution_count": 28,
   "id": "0a7e6bc2",
   "metadata": {},
   "outputs": [
    {
     "data": {
      "text/plain": [
       "2"
      ]
     },
     "execution_count": 28,
     "metadata": {},
     "output_type": "execute_result"
    }
   ],
   "source": [
    "last_id "
   ]
  },
  {
   "cell_type": "code",
   "execution_count": 29,
   "id": "ce34b114",
   "metadata": {},
   "outputs": [
    {
     "name": "stdout",
     "output_type": "stream",
     "text": [
      "insert into users ('name', 'city') values ('poojan', 'mumbai')\n",
      "insert into users ('name', 'city') values ('abhi', 'pune')\n",
      "insert into users ('name', 'city') values ('mona', 'banglore')\n"
     ]
    }
   ],
   "source": [
    "for d in data:\n",
    "    cmd=f'insert into users {tuple(d.keys())} values {tuple(d.values())}'\n",
    "    print(cmd)"
   ]
  },
  {
   "cell_type": "code",
   "execution_count": 31,
   "id": "d63b248e",
   "metadata": {},
   "outputs": [
    {
     "name": "stdout",
     "output_type": "stream",
     "text": [
      "insert into users ('name', 'city', 'id') values ('poojan', 'mumbai', 4)\n",
      "insert into users ('name', 'city', 'id') values ('abhi', 'pune', 5)\n",
      "insert into users ('name', 'city', 'id') values ('mona', 'banglore', 6)\n"
     ]
    }
   ],
   "source": [
    "db_cursor.execute('select * from users')\n",
    "last_id= db_cursor.fetchall()[-1][0]\n",
    "new_id= last_id+1\n",
    "\n",
    "for d in data:\n",
    "    d['id']=new_id\n",
    "    cmd=f'insert into users {tuple(d.keys())} values {tuple(d.values())}'\n",
    "    db_cursor.execute(cmd)\n",
    "    db.commit()\n",
    "    print(cmd)\n",
    "    new_id +=1\n",
    "    "
   ]
  },
  {
   "cell_type": "code",
   "execution_count": 32,
   "id": "fb9fe683",
   "metadata": {},
   "outputs": [],
   "source": [
    "#update record\n",
    "\n",
    "cmd= 'update users set name=\"prarthana,manisha\" where id= 1'\n",
    "db_cursor.execute(cmd)\n",
    "db.commit()"
   ]
  },
  {
   "cell_type": "code",
   "execution_count": 35,
   "id": "cd9ae6d1",
   "metadata": {},
   "outputs": [],
   "source": [
    "#delete record\n",
    "\n",
    "cmd='delete from users where id=2'\n",
    "db_cursor.execute(cmd)\n",
    "db.commit()"
   ]
  },
  {
   "cell_type": "code",
   "execution_count": null,
   "id": "a696b1b4",
   "metadata": {},
   "outputs": [],
   "source": []
  }
 ],
 "metadata": {
  "kernelspec": {
   "display_name": "Python 3 (ipykernel)",
   "language": "python",
   "name": "python3"
  },
  "language_info": {
   "codemirror_mode": {
    "name": "ipython",
    "version": 3
   },
   "file_extension": ".py",
   "mimetype": "text/x-python",
   "name": "python",
   "nbconvert_exporter": "python",
   "pygments_lexer": "ipython3",
   "version": "3.10.9"
  }
 },
 "nbformat": 4,
 "nbformat_minor": 5
}
